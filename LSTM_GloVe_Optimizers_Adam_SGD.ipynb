{
  "nbformat": 4,
  "nbformat_minor": 0,
  "metadata": {
    "colab": {
      "provenance": [],
      "authorship_tag": "ABX9TyPn+W4+/0j9PRQeCJunYWNH"
    },
    "kernelspec": {
      "name": "python3",
      "display_name": "Python 3"
    },
    "accelerator": "GPU"
  },
  "cells": [
    {
      "cell_type": "markdown",
      "metadata": {
        "id": "b0eP3Zz_uCqX"
      },
      "source": [
        "# **Long Short Therm Memory**\n",
        "\n",
        "## Word Embedding: GloVe 6B 100d\n",
        "##Optimizers: Adam/ SGD"
      ]
    },
    {
      "cell_type": "markdown",
      "metadata": {
        "id": "-Oq5Oj_cueGB"
      },
      "source": [
        "**Word Embeddings**\n",
        "\n",
        "Words and ngrams have been primarily used as features in text classification. I did vectorized the texts using bag of words based features, now I will rely on neural embedding models. I will use a pre-trained embedding model. There are several pre-trained word2vec models trained on large corpora that one can download from the internet. GloVe(Global Vector) is one of popular pre-trained embedding algorithm from Stanford.\n",
        "\n",
        "The advantage of using embedding based features is that they create a dense, low-dimensional feature representation instead of the sparse, high-dimensional structure of bag of words/TFIDF and other such features."
      ]
    },
    {
      "cell_type": "markdown",
      "metadata": {
        "id": "kz71CHozu9OM"
      },
      "source": [
        "**GloVe Embeddings**\n",
        "GloVe is commonly used method of obtaining pre-trained embeddings. GloVe aims to achieve two goals:\n",
        "\n",
        "Create word vectors that capture meaning in vector space\n",
        "Takes advantage of global count statistics instead of only local information\n",
        "There are a lot of online material available to explain the concept about GloVe. So my focus here will be on, how to use pre-trained Glove word embeddings. I will provide relevant resources to look into more details."
      ]
    },
    {
      "cell_type": "markdown",
      "metadata": {
        "id": "gHESeaUzvYan"
      },
      "source": [
        "**Download the pre-trained glove file:**\n",
        "I will be using glove.6B file which is trained on Wikipedia 2014 + Gigaword 5 (6B tokens, 400K vocab, uncased, 100d vectors, 822 MB download)."
      ]
    },
    {
      "cell_type": "code",
      "metadata": {
        "id": "AI2GLilxe9V6",
        "outputId": "9dc67e30-73e7-42cc-cdc0-fd465ee94e55",
        "colab": {
          "base_uri": "https://localhost:8080/",
          "height": 372
        }
      },
      "source": [
        "!wget http://nlp.stanford.edu/data/glove.6B.zip"
      ],
      "execution_count": null,
      "outputs": [
        {
          "output_type": "stream",
          "text": [
            "--2020-10-05 18:17:34--  http://nlp.stanford.edu/data/glove.6B.zip\n",
            "Resolving nlp.stanford.edu (nlp.stanford.edu)... 171.64.67.140\n",
            "Connecting to nlp.stanford.edu (nlp.stanford.edu)|171.64.67.140|:80... connected.\n",
            "HTTP request sent, awaiting response... 302 Found\n",
            "Location: https://nlp.stanford.edu/data/glove.6B.zip [following]\n",
            "--2020-10-05 18:17:34--  https://nlp.stanford.edu/data/glove.6B.zip\n",
            "Connecting to nlp.stanford.edu (nlp.stanford.edu)|171.64.67.140|:443... connected.\n",
            "HTTP request sent, awaiting response... 301 Moved Permanently\n",
            "Location: http://downloads.cs.stanford.edu/nlp/data/glove.6B.zip [following]\n",
            "--2020-10-05 18:17:34--  http://downloads.cs.stanford.edu/nlp/data/glove.6B.zip\n",
            "Resolving downloads.cs.stanford.edu (downloads.cs.stanford.edu)... 171.64.64.22\n",
            "Connecting to downloads.cs.stanford.edu (downloads.cs.stanford.edu)|171.64.64.22|:80... connected.\n",
            "HTTP request sent, awaiting response... 200 OK\n",
            "Length: 862182613 (822M) [application/zip]\n",
            "Saving to: ‘glove.6B.zip’\n",
            "\n",
            "glove.6B.zip        100%[===================>] 822.24M  2.07MB/s    in 6m 27s  \n",
            "\n",
            "2020-10-05 18:24:02 (2.12 MB/s) - ‘glove.6B.zip’ saved [862182613/862182613]\n",
            "\n"
          ],
          "name": "stdout"
        }
      ]
    },
    {
      "cell_type": "code",
      "metadata": {
        "id": "_hpMHrMafBbq"
      },
      "source": [
        "!unzip -q ./glove.6B.zip"
      ],
      "execution_count": null,
      "outputs": []
    },
    {
      "cell_type": "code",
      "metadata": {
        "id": "HeDiI9_b049M",
        "outputId": "a5814e88-2731-4c83-df56-c8f3300b6e31",
        "colab": {
          "base_uri": "https://localhost:8080/",
          "height": 52
        }
      },
      "source": [
        "import pandas as pd\n",
        "import numpy as np\n",
        "import re\n",
        "import matplotlib.pyplot as plt\n",
        "import nltk\n",
        "nltk.download('stopwords')\n",
        "from nltk.corpus import stopwords\n",
        "\n",
        "\n",
        "from tensorflow.keras import regularizers, initializers, optimizers\n",
        "from keras.callbacks import EarlyStopping, ModelCheckpoint, CSVLogger, Callback\n",
        "from tensorflow.keras.preprocessing.sequence import pad_sequences\n",
        "from tensorflow.keras.preprocessing.text import Tokenizer\n",
        "from keras.utils.np_utils import to_categorical\n",
        "from tensorflow.keras.layers import *\n",
        "from tensorflow.keras.models import Model\n",
        "import tensorflow as tf\n",
        "from sklearn.model_selection import train_test_split\n",
        "from keras.optimizers import SGD, RMSprop, Adagrad, Adadelta, Adam, Adamax, Nadam\n",
        "\n",
        "\n",
        "from sklearn.metrics import accuracy_score, f1_score, recall_score, precision_score, roc_auc_score, roc_curve\n",
        "\n",
        "MAX_NB_WORDS = 100000    # max no. of words for tokenizer\n",
        "MAX_SEQUENCE_LENGTH = 400 # max length of each entry (sentence), including padding\n",
        "VALIDATION_SPLIT = 0.2   # data for validation (not used in training)\n",
        "EMBEDDING_DIM = 100      # embedding dimensions for word vectors (word2vec/GloVe)\n",
        "GLOVE_DIR = \"/content/glove.6B.\"+str(EMBEDDING_DIM)+\"d.txt\"\n"
      ],
      "execution_count": null,
      "outputs": [
        {
          "output_type": "stream",
          "text": [
            "[nltk_data] Downloading package stopwords to /root/nltk_data...\n",
            "[nltk_data]   Unzipping corpora/stopwords.zip.\n"
          ],
          "name": "stdout"
        }
      ]
    },
    {
      "cell_type": "code",
      "metadata": {
        "id": "QpEEa1HO0_an"
      },
      "source": [
        "train = pd.read_csv('/content/train.csv')\n",
        "test = pd.read_csv('/content/test.csv')\n",
        "labels = [\"toxic\", \"severe_toxic\", \"obscene\", \"threat\", \"insult\", \"identity_hate\"]\n",
        "y = train[labels].values"
      ],
      "execution_count": null,
      "outputs": []
    },
    {
      "cell_type": "markdown",
      "metadata": {
        "id": "Mbpwkt9_v9F7"
      },
      "source": [
        "**Preprocessing**"
      ]
    },
    {
      "cell_type": "code",
      "metadata": {
        "id": "bmobBBgsSLKK"
      },
      "source": [
        "def cleantxt(txt):\n",
        "    \"\"\"\n",
        "    Cleans the string passed. Cleaning Includes-\n",
        "    1. remove special characters/symbols\n",
        "    2. convert text to lower-case\n",
        "    3. retain only alphabets\n",
        "    4. remove words less than 3 characters\n",
        "    5. remove stop-words\n",
        "    \"\"\"\n",
        "    # collecting english stop words from nltk-library\n",
        "    stpw = stopwords.words('english')\n",
        "\n",
        "    # Adding custom stop-words\n",
        "    stpw.extend(['www','http','utc'])\n",
        "    stpw = set(stpw)\n",
        "\n",
        "    # using regex to clean the text\n",
        "    txt = re.sub(r\"\\n\", \" \", txt)\n",
        "    txt = re.sub(\"[\\<\\[].*?[\\>\\]]\", \" \", txt)\n",
        "    txt = txt.lower()\n",
        "    txt = re.sub(r\"[^a-z ]\", \" \", txt)\n",
        "    txt = re.sub(r\"\\b\\w{1,3}\\b\", \" \",txt)\n",
        "    txt = \" \".join([x for x in txt.split() if x not in stpw])\n",
        "    return txt"
      ],
      "execution_count": null,
      "outputs": []
    },
    {
      "cell_type": "code",
      "metadata": {
        "id": "HttQwHlHSX8L",
        "outputId": "0ebb7799-bd1e-44b7-b0fb-d6318a9d0eb9",
        "colab": {
          "base_uri": "https://localhost:8080/",
          "height": 36
        }
      },
      "source": [
        "train.comment_text.loc[1]"
      ],
      "execution_count": null,
      "outputs": [
        {
          "output_type": "execute_result",
          "data": {
            "application/vnd.google.colaboratory.intrinsic+json": {
              "type": "string"
            },
            "text/plain": [
              "\"D'aww! He matches this background colour I'm seemingly stuck with. Thanks.  (talk) 21:51, January 11, 2016 (UTC)\""
            ]
          },
          "metadata": {
            "tags": []
          },
          "execution_count": 33
        }
      ]
    },
    {
      "cell_type": "code",
      "metadata": {
        "id": "9XWOUNjXSPhR"
      },
      "source": [
        "train.comment_text = train.comment_text.apply(lambda x : cleantxt(x))"
      ],
      "execution_count": null,
      "outputs": []
    },
    {
      "cell_type": "code",
      "metadata": {
        "id": "rL1qd5ymSr3i",
        "outputId": "c5d706a8-dccd-4e74-e782-1282f9b0a0c3",
        "colab": {
          "base_uri": "https://localhost:8080/",
          "height": 36
        }
      },
      "source": [
        "train.comment_text.loc[1]"
      ],
      "execution_count": null,
      "outputs": [
        {
          "output_type": "execute_result",
          "data": {
            "application/vnd.google.colaboratory.intrinsic+json": {
              "type": "string"
            },
            "text/plain": [
              "'matches background colour seemingly stuck thanks talk january'"
            ]
          },
          "metadata": {
            "tags": []
          },
          "execution_count": 35
        }
      ]
    },
    {
      "cell_type": "code",
      "metadata": {
        "id": "wou5vZKPBnja"
      },
      "source": [
        "comments_train = train['comment_text']\n",
        "comments_train = list(comments_train)\n",
        "comments_test = test['comment_text']\n",
        "comments_test = list(comments_test)"
      ],
      "execution_count": null,
      "outputs": []
    },
    {
      "cell_type": "markdown",
      "metadata": {
        "id": "nS2TG-JN0gRX"
      },
      "source": [
        "\n",
        "**Evaluation Metric**\n",
        "\n",
        "To evaluate the model, I'll be looking at its AUC ROC score (area under the receiver operating characteristic curve). I will be looking at the probability that the model ranks a randomly chosen positive instance higher than a randomly chosen negative one. With data that mostly consists of negative labels (no toxicity), our model could just learn to always predict negative and end up with a pretty high accuracy. AUC ROC helps correct this by putting more weight on the the positive examples."
      ]
    },
    {
      "cell_type": "code",
      "metadata": {
        "id": "MnsUMKJL4c6N"
      },
      "source": [
        "class RocAucEvaluation(Callback):\n",
        "    def __init__(self, validation_data=(), interval=1):\n",
        "        super(Callback, self).__init__()\n",
        "\n",
        "        self.interval = interval\n",
        "        self.X_val, self.y_val = validation_data\n",
        "\n",
        "    def on_epoch_end(self, epoch, logs={}):\n",
        "        if epoch % self.interval == 0:\n",
        "            y_pred = self.model.predict(self.X_val, verbose=0)\n",
        "            score = roc_auc_score(self.y_val, y_pred)\n",
        "            print(\"\\n ROC-AUC - epoch: {:d} - score: {:.6f}\".format(epoch+1, score))"
      ],
      "execution_count": null,
      "outputs": []
    },
    {
      "cell_type": "code",
      "metadata": {
        "id": "i2kAWcsE_XdQ"
      },
      "source": [
        "def plot_graphs(history, metric, optimizer):\n",
        "    plt.plot(history.history[metric])\n",
        "    plt.plot(history.history['val_'+metric], '')\n",
        "    plt.title(optimizer)\n",
        "    plt.xlabel(\"Epochs\")\n",
        "    plt.ylabel(metric)\n",
        "    plt.legend([metric, 'val_'+metric])\n",
        "    plt.show()"
      ],
      "execution_count": null,
      "outputs": []
    },
    {
      "cell_type": "markdown",
      "metadata": {
        "id": "5l8Acfomrsr0"
      },
      "source": [
        "**Tokenizing**\n",
        "\n",
        "When dealing with text, it is typical to assign a unique integer id to each word in the corpus. This makes it simpler to represent the data as we feed it into a model.\n",
        "\n",
        "Because this is such a common operation, Keras has built-in support for it. We need to fit the tokenizer object on our corpus so that it can assign a unique id to each word. We also initialize the tokenizer with a num_words parameter so that it knows how many of the top frequency words to take into account.\n",
        "\n",
        "**Padding**\n",
        "\n",
        "Our model would expect each input row to be of the same dimension. This means once we decide on what the chosen input comment size is, we need to chop off some part of the input comments that are too long. We would also, need to pad the comments which are shorter.\n",
        "\n",
        "Keras has built in support for this using the pad_sequences method.\n"
      ]
    },
    {
      "cell_type": "code",
      "metadata": {
        "id": "x3pVEh7NGRxt",
        "outputId": "e624c824-4c96-4a70-939e-676a3b137928",
        "colab": {
          "base_uri": "https://localhost:8080/",
          "height": 35
        }
      },
      "source": [
        "tokenizer = Tokenizer(num_words=MAX_NB_WORDS)\n",
        "tokenizer.fit_on_texts(comments_train)\n",
        "sequences = tokenizer.texts_to_sequences(comments_train)\n",
        "test_sequences = tokenizer.texts_to_sequences(comments_test)\n",
        "word_index = tokenizer.word_index\n",
        "print('Vocabulary size:', len(word_index))"
      ],
      "execution_count": null,
      "outputs": [
        {
          "output_type": "stream",
          "text": [
            "Vocabulary size: 161263\n"
          ],
          "name": "stdout"
        }
      ]
    },
    {
      "cell_type": "code",
      "metadata": {
        "id": "mheo_urAdMuR"
      },
      "source": [
        "data = pad_sequences(sequences, padding = 'post', maxlen = MAX_SEQUENCE_LENGTH)\n",
        "data_test = pad_sequences(test_sequences, padding = 'post', maxlen = MAX_SEQUENCE_LENGTH)"
      ],
      "execution_count": null,
      "outputs": []
    },
    {
      "cell_type": "code",
      "metadata": {
        "id": "joppQMSdeLea",
        "outputId": "651283db-4b22-4842-c29d-aae8869c73aa",
        "colab": {
          "base_uri": "https://localhost:8080/",
          "height": 70
        }
      },
      "source": [
        "embeddings_index = {}\n",
        "f = open(GLOVE_DIR)\n",
        "print('Loading GloVe from:', GLOVE_DIR,'...', end='')\n",
        "for line in f:\n",
        "    values = line.split()\n",
        "    word = values[0]\n",
        "    embeddings_index[word] = np.asarray(values[1:], dtype='float32')\n",
        "f.close()\n",
        "print(\"Done.\\n Proceeding with Embedding Matrix...\")\n",
        "print(f'Found {len(embeddings_index)} word vectors', end=\"\")\n",
        "\n",
        "embedding_matrix = np.random.random((len(word_index) + 1, EMBEDDING_DIM))\n",
        "for word, i in word_index.items():\n",
        "    embedding_vector = embeddings_index.get(word)\n",
        "    if embedding_vector is not None:\n",
        "        embedding_matrix[i] = embedding_vector\n",
        "print(\" Completed!\")"
      ],
      "execution_count": null,
      "outputs": [
        {
          "output_type": "stream",
          "text": [
            "Loading GloVe from: /content/glove.6B.100d.txt ...Done.\n",
            " Proceeding with Embedding Matrix...\n",
            "Found 400000 word vectors Completed!\n"
          ],
          "name": "stdout"
        }
      ]
    },
    {
      "cell_type": "markdown",
      "metadata": {
        "id": "jpnASm-hwCyV"
      },
      "source": [
        "**MODEL**\n",
        "\n",
        "Recurrent Neural Network(RNN) with word embeddings\n",
        "\n",
        "The RNN type model used here is the LSTM model. This model is attractive because the individual cell states in the model have the ability to remove or add information to the cell state through gates layers. This is useful in practice because it allows the model to remember insights derived from words throughout the comment. The LSTM model consist of one densely connected layer with 60 units across the concatenated word vectors for each of the words in the comment\n",
        "\n",
        "Now that the data is preprocessed and our embeddings are ready, we can build a model. We will build a neural network architecture that is comprises of the following:\n",
        "\n",
        "Embedding layer - word vector representations.\n",
        "Recurrent layer (LSTM) - run multiple filters over the data.\n",
        "Fully connected layer - classify input based on filters."
      ]
    },
    {
      "cell_type": "code",
      "metadata": {
        "id": "b_78MNYBeLkc"
      },
      "source": [
        "sequence_input = Input(shape=(MAX_SEQUENCE_LENGTH,), dtype='int32')\n",
        "embedding_layer = Embedding(len(word_index) + 1,\n",
        "                           EMBEDDING_DIM,\n",
        "                           weights = [embedding_matrix],\n",
        "                           input_length = MAX_SEQUENCE_LENGTH,\n",
        "                           trainable=False,\n",
        "                           name = 'embeddings')\n",
        "embedded_sequences = embedding_layer(sequence_input)\n",
        "x = LSTM(60, return_sequences=True,name='lstm_layer')(embedded_sequences)\n",
        "x = GlobalMaxPool1D()(x)\n",
        "x = Dropout(0.1)(x)\n",
        "x = Dense(50, activation=\"relu\")(x)\n",
        "x = Dropout(0.1)(x)\n",
        "preds = Dense(6, activation=\"sigmoid\")(x)"
      ],
      "execution_count": null,
      "outputs": []
    },
    {
      "cell_type": "code",
      "metadata": {
        "id": "Eyquqqgug_Uh",
        "outputId": "fa2a6ffd-2dba-49ff-f6af-eed0f05316c2",
        "colab": {
          "base_uri": "https://localhost:8080/",
          "height": 758
        }
      },
      "source": [
        "tf.keras.utils.plot_model(model)"
      ],
      "execution_count": null,
      "outputs": [
        {
          "output_type": "execute_result",
          "data": {
            "image/png": "[encoded data removed]",
            "text/plain": [
              "<IPython.core.display.Image object>"
            ]
          },
          "metadata": {
            "tags": []
          },
          "execution_count": 75
        }
      ]
    },
    {
      "cell_type": "code",
      "metadata": {
        "id": "KSguWmXWUyrw"
      },
      "source": [
        "X_tra, X_val, y_tra, y_val = train_test_split(data, y, train_size=0.8, random_state=233)"
      ],
      "execution_count": null,
      "outputs": []
    },
    {
      "cell_type": "code",
      "metadata": {
        "id": "g5r6h1sO5c55"
      },
      "source": [
        "model = Model(sequence_input, preds)"
      ],
      "execution_count": null,
      "outputs": []
    },
    {
      "cell_type": "code",
      "metadata": {
        "id": "m2BUIa8T5j9m"
      },
      "source": [
        "ra_val = RocAucEvaluation(validation_data=(X_val, y_val), interval = 1)\n",
        "callbacks_list = [ra_val]"
      ],
      "execution_count": null,
      "outputs": []
    },
    {
      "cell_type": "code",
      "metadata": {
        "id": "uT0uDjyag8lY"
      },
      "source": [
        "model.compile(loss = 'binary_crossentropy',\n",
        "             optimizer='adam',\n",
        "             metrics = ['accuracy'])"
      ],
      "execution_count": null,
      "outputs": []
    },
    {
      "cell_type": "code",
      "metadata": {
        "id": "3SgTjnnnWppa",
        "outputId": "892e1429-58e0-4d1c-e0f1-183dd1365234",
        "colab": {
          "base_uri": "https://localhost:8080/",
          "height": 1000
        }
      },
      "source": [
        "hist_adam = model.fit(X_tra, y_tra, batch_size=400, epochs=20, validation_data=(X_val, y_val),callbacks = callbacks_list,verbose=1)\n",
        "print('Predicting....')\n",
        "y_pred_Adam = model.predict(data_test,batch_size=1024,verbose=1)"
      ],
      "execution_count": null,
      "outputs": [
        {
          "output_type": "stream",
          "text": [
            "Epoch 1/20\n",
            "319/320 [============================>.] - ETA: 0s - loss: 0.1215 - accuracy: 0.7109\n",
            " ROC-AUC - epoch: 1 - score: 0.950208\n",
            "320/320 [==============================] - 23s 72ms/step - loss: 0.1215 - accuracy: 0.7110 - val_loss: 0.0662 - val_accuracy: 0.9938\n",
            "Epoch 2/20\n",
            "320/320 [==============================] - ETA: 0s - loss: 0.0646 - accuracy: 0.9279\n",
            " ROC-AUC - epoch: 2 - score: 0.957167\n",
            "320/320 [==============================] - 22s 70ms/step - loss: 0.0646 - accuracy: 0.9279 - val_loss: 0.0612 - val_accuracy: 0.9938\n",
            "Epoch 3/20\n",
            "319/320 [============================>.] - ETA: 0s - loss: 0.0603 - accuracy: 0.9631\n",
            " ROC-AUC - epoch: 3 - score: 0.961152\n",
            "320/320 [==============================] - 23s 71ms/step - loss: 0.0603 - accuracy: 0.9631 - val_loss: 0.0589 - val_accuracy: 0.9938\n",
            "Epoch 4/20\n",
            "319/320 [============================>.] - ETA: 0s - loss: 0.0574 - accuracy: 0.9766\n",
            " ROC-AUC - epoch: 4 - score: 0.964339\n",
            "320/320 [==============================] - 23s 70ms/step - loss: 0.0574 - accuracy: 0.9765 - val_loss: 0.0569 - val_accuracy: 0.9938\n",
            "Epoch 5/20\n",
            "319/320 [============================>.] - ETA: 0s - loss: 0.0556 - accuracy: 0.9851\n",
            " ROC-AUC - epoch: 5 - score: 0.964942\n",
            "320/320 [==============================] - 22s 70ms/step - loss: 0.0556 - accuracy: 0.9851 - val_loss: 0.0560 - val_accuracy: 0.9938\n",
            "Epoch 6/20\n",
            "319/320 [============================>.] - ETA: 0s - loss: 0.0539 - accuracy: 0.9890\n",
            " ROC-AUC - epoch: 6 - score: 0.967381\n",
            "320/320 [==============================] - 23s 71ms/step - loss: 0.0538 - accuracy: 0.9890 - val_loss: 0.0547 - val_accuracy: 0.9938\n",
            "Epoch 7/20\n",
            "320/320 [==============================] - ETA: 0s - loss: 0.0525 - accuracy: 0.9907\n",
            " ROC-AUC - epoch: 7 - score: 0.967472\n",
            "320/320 [==============================] - 23s 71ms/step - loss: 0.0525 - accuracy: 0.9907 - val_loss: 0.0543 - val_accuracy: 0.9938\n",
            "Epoch 8/20\n",
            "320/320 [==============================] - ETA: 0s - loss: 0.0515 - accuracy: 0.9917\n",
            " ROC-AUC - epoch: 8 - score: 0.968833\n",
            "320/320 [==============================] - 23s 71ms/step - loss: 0.0515 - accuracy: 0.9917 - val_loss: 0.0534 - val_accuracy: 0.9938\n",
            "Epoch 9/20\n",
            "320/320 [==============================] - ETA: 0s - loss: 0.0503 - accuracy: 0.9923\n",
            " ROC-AUC - epoch: 9 - score: 0.968214\n",
            "320/320 [==============================] - 23s 70ms/step - loss: 0.0503 - accuracy: 0.9923 - val_loss: 0.0547 - val_accuracy: 0.9939\n",
            "Epoch 10/20\n",
            "319/320 [============================>.] - ETA: 0s - loss: 0.0492 - accuracy: 0.9927\n",
            " ROC-AUC - epoch: 10 - score: 0.970101\n",
            "320/320 [==============================] - 23s 71ms/step - loss: 0.0492 - accuracy: 0.9927 - val_loss: 0.0530 - val_accuracy: 0.9938\n",
            "Epoch 11/20\n",
            "319/320 [============================>.] - ETA: 0s - loss: 0.0484 - accuracy: 0.9930\n",
            " ROC-AUC - epoch: 11 - score: 0.970660\n",
            "320/320 [==============================] - 23s 71ms/step - loss: 0.0484 - accuracy: 0.9930 - val_loss: 0.0534 - val_accuracy: 0.9938\n",
            "Epoch 12/20\n",
            "319/320 [============================>.] - ETA: 0s - loss: 0.0476 - accuracy: 0.9931\n",
            " ROC-AUC - epoch: 12 - score: 0.969975\n",
            "320/320 [==============================] - 23s 70ms/step - loss: 0.0476 - accuracy: 0.9931 - val_loss: 0.0539 - val_accuracy: 0.9939\n",
            "Epoch 13/20\n",
            "319/320 [============================>.] - ETA: 0s - loss: 0.0469 - accuracy: 0.9935\n",
            " ROC-AUC - epoch: 13 - score: 0.970191\n",
            "320/320 [==============================] - 23s 71ms/step - loss: 0.0469 - accuracy: 0.9935 - val_loss: 0.0535 - val_accuracy: 0.9937\n",
            "Epoch 14/20\n",
            "320/320 [==============================] - ETA: 0s - loss: 0.0458 - accuracy: 0.9934\n",
            " ROC-AUC - epoch: 14 - score: 0.970586\n",
            "320/320 [==============================] - 23s 71ms/step - loss: 0.0458 - accuracy: 0.9934 - val_loss: 0.0529 - val_accuracy: 0.9939\n",
            "Epoch 15/20\n",
            "320/320 [==============================] - ETA: 0s - loss: 0.0453 - accuracy: 0.9937\n",
            " ROC-AUC - epoch: 15 - score: 0.970234\n",
            "320/320 [==============================] - 23s 71ms/step - loss: 0.0453 - accuracy: 0.9937 - val_loss: 0.0535 - val_accuracy: 0.9939\n",
            "Epoch 16/20\n",
            "320/320 [==============================] - ETA: 0s - loss: 0.0444 - accuracy: 0.9935\n",
            " ROC-AUC - epoch: 16 - score: 0.970614\n",
            "320/320 [==============================] - 23s 71ms/step - loss: 0.0444 - accuracy: 0.9935 - val_loss: 0.0536 - val_accuracy: 0.9937\n",
            "Epoch 17/20\n",
            "319/320 [============================>.] - ETA: 0s - loss: 0.0441 - accuracy: 0.9934\n",
            " ROC-AUC - epoch: 17 - score: 0.970443\n",
            "320/320 [==============================] - 23s 71ms/step - loss: 0.0441 - accuracy: 0.9934 - val_loss: 0.0553 - val_accuracy: 0.9939\n",
            "Epoch 18/20\n",
            "319/320 [============================>.] - ETA: 0s - loss: 0.0431 - accuracy: 0.9936\n",
            " ROC-AUC - epoch: 18 - score: 0.969862\n",
            "320/320 [==============================] - 23s 71ms/step - loss: 0.0431 - accuracy: 0.9936 - val_loss: 0.0556 - val_accuracy: 0.9937\n",
            "Epoch 19/20\n",
            "320/320 [==============================] - ETA: 0s - loss: 0.0422 - accuracy: 0.9937\n",
            " ROC-AUC - epoch: 19 - score: 0.970470\n",
            "320/320 [==============================] - 23s 71ms/step - loss: 0.0422 - accuracy: 0.9937 - val_loss: 0.0540 - val_accuracy: 0.9939\n",
            "Epoch 20/20\n",
            "320/320 [==============================] - ETA: 0s - loss: 0.0421 - accuracy: 0.9935\n",
            " ROC-AUC - epoch: 20 - score: 0.970471\n",
            "320/320 [==============================] - 23s 71ms/step - loss: 0.0421 - accuracy: 0.9935 - val_loss: 0.0544 - val_accuracy: 0.9936\n",
            "Predicting....\n",
            "150/150 [==============================] - 8s 52ms/step\n"
          ],
          "name": "stdout"
        }
      ]
    },
    {
      "cell_type": "code",
      "metadata": {
        "id": "3ULWrkONdEZW",
        "outputId": "d992fcdb-63e0-40d0-9d30-223e21538f84",
        "colab": {
          "base_uri": "https://localhost:8080/",
          "height": 295
        }
      },
      "source": [
        "plot_graphs(hist_adam, 'accuracy','Adam')"
      ],
      "execution_count": null,
      "outputs": [
        {
          "output_type": "display_data",
          "data": {
            "image/png": "[encoded data removed]",
            "text/plain": [
              "<Figure size 432x288 with 1 Axes>"
            ]
          },
          "metadata": {
            "tags": [],
            "needs_background": "light"
          }
        }
      ]
    },
    {
      "cell_type": "code",
      "metadata": {
        "id": "r1ue6ET3dIRL",
        "outputId": "01b753ae-2fb6-4ae3-a9b4-0ae095d227b6",
        "colab": {
          "base_uri": "https://localhost:8080/",
          "height": 295
        }
      },
      "source": [
        "plot_graphs(hist_adam, 'loss','Adam')"
      ],
      "execution_count": null,
      "outputs": [
        {
          "output_type": "display_data",
          "data": {
            "image/png": "[encoded data removed]",
            "text/plain": [
              "<Figure size 432x288 with 1 Axes>"
            ]
          },
          "metadata": {
            "tags": [],
            "needs_background": "light"
          }
        }
      ]
    },
    {
      "cell_type": "code",
      "metadata": {
        "id": "gVx7pdI3LSw7"
      },
      "source": [
        "submission = pd.read_csv('/content/submission_gru.csv')\n",
        "submission[[\"toxic\", \"severe_toxic\", \"obscene\", \"threat\", \"insult\", \"identity_hate\"]] = y_pred_Adam\n",
        "submission.to_csv('lstm_glove6b_adam_prepro2.csv', index=False)"
      ],
      "execution_count": null,
      "outputs": []
    },
    {
      "cell_type": "markdown",
      "metadata": {
        "id": "lgFEgaQi5y0u"
      },
      "source": [
        "SGD"
      ]
    },
    {
      "cell_type": "code",
      "metadata": {
        "id": "S8l-dGth53iD",
        "outputId": "5aa70b86-e659-45ee-8ae9-b3510e4a6631",
        "colab": {
          "base_uri": "https://localhost:8080/",
          "height": 1000
        }
      },
      "source": [
        "opt = SGD(lr=0.01, momentum=0.9, decay=0.0001)\n",
        "model.compile(loss='binary_crossentropy',optimizer=opt, metrics=['accuracy'])\n",
        "\n",
        "hist_sgd = model.fit(X_tra, y_tra, batch_size=400, epochs=20, validation_data=(X_val, y_val),callbacks = callbacks_list,verbose=1)\n",
        "print('Predicting....')\n",
        "y_pred_SGD = model.predict(data_test,batch_size=1024,verbose=1)"
      ],
      "execution_count": null,
      "outputs": [
        {
          "output_type": "stream",
          "text": [
            "Epoch 1/20\n",
            "320/320 [==============================] - ETA: 0s - loss: 0.1740 - accuracy: 0.7538\n",
            " ROC-AUC - epoch: 1 - score: 0.787165\n",
            "320/320 [==============================] - 23s 73ms/step - loss: 0.1740 - accuracy: 0.7538 - val_loss: 0.1259 - val_accuracy: 0.9938\n",
            "Epoch 2/20\n",
            "319/320 [============================>.] - ETA: 0s - loss: 0.1273 - accuracy: 0.8534\n",
            " ROC-AUC - epoch: 2 - score: 0.836562\n",
            "320/320 [==============================] - 23s 70ms/step - loss: 0.1274 - accuracy: 0.8534 - val_loss: 0.1170 - val_accuracy: 0.9938\n",
            "Epoch 3/20\n",
            "319/320 [============================>.] - ETA: 0s - loss: 0.1161 - accuracy: 0.8873\n",
            " ROC-AUC - epoch: 3 - score: 0.883239\n",
            "320/320 [==============================] - 23s 71ms/step - loss: 0.1161 - accuracy: 0.8873 - val_loss: 0.1049 - val_accuracy: 0.9938\n",
            "Epoch 4/20\n",
            "320/320 [==============================] - ETA: 0s - loss: 0.1033 - accuracy: 0.9023\n",
            " ROC-AUC - epoch: 4 - score: 0.914819\n",
            "320/320 [==============================] - 23s 71ms/step - loss: 0.1033 - accuracy: 0.9023 - val_loss: 0.0929 - val_accuracy: 0.9938\n",
            "Epoch 5/20\n",
            "320/320 [==============================] - ETA: 0s - loss: 0.0938 - accuracy: 0.9099\n",
            " ROC-AUC - epoch: 5 - score: 0.927899\n",
            "320/320 [==============================] - 23s 71ms/step - loss: 0.0938 - accuracy: 0.9099 - val_loss: 0.0859 - val_accuracy: 0.9938\n",
            "Epoch 6/20\n",
            "320/320 [==============================] - ETA: 0s - loss: 0.0869 - accuracy: 0.9273\n",
            " ROC-AUC - epoch: 6 - score: 0.936605\n",
            "320/320 [==============================] - 23s 71ms/step - loss: 0.0869 - accuracy: 0.9273 - val_loss: 0.0804 - val_accuracy: 0.9938\n",
            "Epoch 7/20\n",
            "320/320 [==============================] - ETA: 0s - loss: 0.0829 - accuracy: 0.9400\n",
            " ROC-AUC - epoch: 7 - score: 0.941730\n",
            "320/320 [==============================] - 23s 71ms/step - loss: 0.0829 - accuracy: 0.9400 - val_loss: 0.0768 - val_accuracy: 0.9938\n",
            "Epoch 8/20\n",
            "319/320 [============================>.] - ETA: 0s - loss: 0.0787 - accuracy: 0.9583\n",
            " ROC-AUC - epoch: 8 - score: 0.945364\n",
            "320/320 [==============================] - 23s 71ms/step - loss: 0.0787 - accuracy: 0.9583 - val_loss: 0.0737 - val_accuracy: 0.9938\n",
            "Epoch 9/20\n",
            "320/320 [==============================] - ETA: 0s - loss: 0.0761 - accuracy: 0.9691\n",
            " ROC-AUC - epoch: 9 - score: 0.947862\n",
            "320/320 [==============================] - 23s 71ms/step - loss: 0.0761 - accuracy: 0.9691 - val_loss: 0.0714 - val_accuracy: 0.9938\n",
            "Epoch 10/20\n",
            "319/320 [============================>.] - ETA: 0s - loss: 0.0736 - accuracy: 0.9754\n",
            " ROC-AUC - epoch: 10 - score: 0.949507\n",
            "320/320 [==============================] - 23s 70ms/step - loss: 0.0736 - accuracy: 0.9754 - val_loss: 0.0697 - val_accuracy: 0.9938\n",
            "Epoch 11/20\n",
            "319/320 [============================>.] - ETA: 0s - loss: 0.0719 - accuracy: 0.9811\n",
            " ROC-AUC - epoch: 11 - score: 0.950636\n",
            "320/320 [==============================] - 23s 71ms/step - loss: 0.0719 - accuracy: 0.9811 - val_loss: 0.0688 - val_accuracy: 0.9938\n",
            "Epoch 12/20\n",
            "320/320 [==============================] - ETA: 0s - loss: 0.0707 - accuracy: 0.9822\n",
            " ROC-AUC - epoch: 12 - score: 0.951393\n",
            "320/320 [==============================] - 23s 71ms/step - loss: 0.0707 - accuracy: 0.9822 - val_loss: 0.0673 - val_accuracy: 0.9938\n",
            "Epoch 13/20\n",
            "320/320 [==============================] - ETA: 0s - loss: 0.0697 - accuracy: 0.9851\n",
            " ROC-AUC - epoch: 13 - score: 0.952108\n",
            "320/320 [==============================] - 23s 71ms/step - loss: 0.0697 - accuracy: 0.9851 - val_loss: 0.0665 - val_accuracy: 0.9938\n",
            "Epoch 14/20\n",
            "319/320 [============================>.] - ETA: 0s - loss: 0.0687 - accuracy: 0.9871\n",
            " ROC-AUC - epoch: 14 - score: 0.952903\n",
            "320/320 [==============================] - 23s 71ms/step - loss: 0.0687 - accuracy: 0.9871 - val_loss: 0.0664 - val_accuracy: 0.9938\n",
            "Epoch 15/20\n",
            "319/320 [============================>.] - ETA: 0s - loss: 0.0681 - accuracy: 0.9884\n",
            " ROC-AUC - epoch: 15 - score: 0.952645\n",
            "320/320 [==============================] - 22s 70ms/step - loss: 0.0681 - accuracy: 0.9884 - val_loss: 0.0653 - val_accuracy: 0.9938\n",
            "Epoch 16/20\n",
            "319/320 [============================>.] - ETA: 0s - loss: 0.0689 - accuracy: 0.9887\n",
            " ROC-AUC - epoch: 16 - score: 0.953832\n",
            "320/320 [==============================] - 22s 70ms/step - loss: 0.0689 - accuracy: 0.9887 - val_loss: 0.0648 - val_accuracy: 0.9938\n",
            "Epoch 17/20\n",
            "320/320 [==============================] - ETA: 0s - loss: 0.0672 - accuracy: 0.9900\n",
            " ROC-AUC - epoch: 17 - score: 0.953661\n",
            "320/320 [==============================] - 22s 70ms/step - loss: 0.0672 - accuracy: 0.9900 - val_loss: 0.0647 - val_accuracy: 0.9938\n",
            "Epoch 18/20\n",
            "319/320 [============================>.] - ETA: 0s - loss: 0.0663 - accuracy: 0.9902\n",
            " ROC-AUC - epoch: 18 - score: 0.954277\n",
            "320/320 [==============================] - 22s 70ms/step - loss: 0.0663 - accuracy: 0.9902 - val_loss: 0.0640 - val_accuracy: 0.9938\n",
            "Epoch 19/20\n",
            "319/320 [============================>.] - ETA: 0s - loss: 0.0662 - accuracy: 0.9909\n",
            " ROC-AUC - epoch: 19 - score: 0.954279\n",
            "320/320 [==============================] - 22s 70ms/step - loss: 0.0662 - accuracy: 0.9909 - val_loss: 0.0638 - val_accuracy: 0.9938\n",
            "Epoch 20/20\n",
            "319/320 [============================>.] - ETA: 0s - loss: 0.0657 - accuracy: 0.9908\n",
            " ROC-AUC - epoch: 20 - score: 0.954733\n",
            "320/320 [==============================] - 22s 69ms/step - loss: 0.0657 - accuracy: 0.9908 - val_loss: 0.0635 - val_accuracy: 0.9938\n",
            "Predicting....\n",
            "150/150 [==============================] - 8s 52ms/step\n"
          ],
          "name": "stdout"
        }
      ]
    },
    {
      "cell_type": "code",
      "metadata": {
        "id": "IY0TEfa355yD",
        "outputId": "36754c23-2f86-4acb-8acf-fe675b581287",
        "colab": {
          "base_uri": "https://localhost:8080/",
          "height": 295
        }
      },
      "source": [
        "plot_graphs(hist_sgd, 'accuracy','SGD')"
      ],
      "execution_count": null,
      "outputs": [
        {
          "output_type": "display_data",
          "data": {
            "image/png": "[encoded data removed]",
            "text/plain": [
              "<Figure size 432x288 with 1 Axes>"
            ]
          },
          "metadata": {
            "tags": [],
            "needs_background": "light"
          }
        }
      ]
    },
    {
      "cell_type": "code",
      "metadata": {
        "id": "eesv18d4Dexs",
        "outputId": "c6517f26-f140-4ab8-b080-581b26757484",
        "colab": {
          "base_uri": "https://localhost:8080/",
          "height": 295
        }
      },
      "source": [
        "plot_graphs(hist_sgd, 'loss','SGD')"
      ],
      "execution_count": null,
      "outputs": [
        {
          "output_type": "display_data",
          "data": {
            "image/png": "[encoded data removed]",
            "text/plain": [
              "<Figure size 432x288 with 1 Axes>"
            ]
          },
          "metadata": {
            "tags": [],
            "needs_background": "light"
          }
        }
      ]
    },
    {
      "cell_type": "code",
      "metadata": {
        "id": "_jeQemU0PIg9"
      },
      "source": [
        "submission = pd.read_csv('/content/submission_gru.csv')\n",
        "submission[[\"toxic\", \"severe_toxic\", \"obscene\", \"threat\", \"insult\", \"identity_hate\"]] = y_pred_SGD\n",
        "submission.to_csv('lstm_glove6b_sgd_prepro2.csv', index=False)"
      ],
      "execution_count": null,
      "outputs": []
    }
  ]
}