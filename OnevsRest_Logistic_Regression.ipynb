{
  "nbformat": 4,
  "nbformat_minor": 0,
  "metadata": {
    "kernelspec": {
      "language": "python",
      "display_name": "Python 3",
      "name": "python3"
    },
    "language_info": {
      "pygments_lexer": "ipython3",
      "nbconvert_exporter": "python",
      "version": "3.6.4",
      "file_extension": ".py",
      "codemirror_mode": {
        "name": "ipython",
        "version": 3
      },
      "name": "python",
      "mimetype": "text/x-python"
    },
    "colab": {
      "provenance": [],
      "toc_visible": true
    }
  },
  "cells": [
    {
      "cell_type": "markdown",
      "metadata": {
        "id": "UmkBeXAhS-7f"
      },
      "source": [
        "# **OneVsRest - Logistic Regression**"
      ]
    },
    {
      "cell_type": "markdown",
      "metadata": {
        "id": "KZqWg8hkUtgn"
      },
      "source": [
        "<font size=\"+2\" color=\"black\"><b> OneVsRest </b></font><br><a id=\"1\"></a>\n",
        "\n",
        "**Let’s talk about what is OneVsRest and why is it useful for multi-label classification tasks?**\n",
        "* OVR as it’s known is a very intuitive approach for solving multi-label classifications tasks in which the problem is decomposed into multiple binary classification problems, in which the labels should be mutually exclusive of each other.\n",
        "* In OVR, we pick one class and train a binary classifier with the samples of the selected class on one side and all the other samples on the other side. Thus, we end up with N classifiers for N labels. While testing, we simply classify the sample as belonging to the class with the maximum score among the N classifiers. Let’s understand this with a simple example\n",
        "* Let’s assume that one comment has 3 label — “obscene”, “insult”, “identity hate”. While training or testing the model, the OVR will work like this — is the label “obscene” or not? Is the label “insult”  or not? Is the label “identity hate”  or not? Here, we have broken down the multi-label problem into three binary classification problems. At the end of the training phase, we will combine the outputs of these three binary classification problems into one single output. Thus, it’s all about fitting one classifier per class. For each classifier, the class is fitted against all the other classes.\n",
        "\n"
      ]
    },
    {
      "cell_type": "markdown",
      "metadata": {
        "id": "ztX1uI60UtRt"
      },
      "source": [
        "<font size=\"+2\" color=\"black\"><b> Prepare the Data </b></font><br><a id=\"1\"></a>"
      ]
    },
    {
      "cell_type": "code",
      "metadata": {
        "_uuid": "8f2839f25d086af736a60e9eeb907d3b93b6e0e5",
        "_cell_guid": "b1076dfc-b9ad-4769-8c92-a6c4dae69d19",
        "trusted": true,
        "id": "oOYUY6O7SR4K",
        "outputId": "cf96608f-566e-4efc-baea-ea4bbc2c9e62",
        "colab": {
          "base_uri": "https://localhost:8080/"
        }
      },
      "source": [
        "import pandas as pd\n",
        "import numpy as np\n",
        "import itertools\n",
        "import matplotlib.pyplot as plt\n",
        "import seaborn as sns\n",
        "\n",
        "#Preprocessing\n",
        "import re\n",
        "import string\n",
        "import nltk\n",
        "nltk.download('wordnet')\n",
        "from nltk.corpus import stopwords\n",
        "from nltk.stem.wordnet import WordNetLemmatizer\n",
        "from nltk.tokenize import word_tokenize\n",
        "\n",
        "#Vectorization\n",
        "from sklearn.feature_extraction.text import TfidfVectorizer, CountVectorizer, HashingVectorizer\n",
        "from scipy.sparse import hstack\n",
        "\n",
        "#Modelling\n",
        "from sklearn.linear_model import LogisticRegression\n",
        "from sklearn.svm import LinearSVC\n",
        "from sklearn.naive_bayes import MultinomialNB\n",
        "from sklearn.pipeline import Pipeline\n",
        "from sklearn.multiclass import OneVsRestClassifier\n",
        "from sklearn.model_selection import train_test_split\n",
        "from sklearn.model_selection import cross_val_score, cross_val_predict\n",
        "from sklearn.model_selection import StratifiedKFold, KFold\n",
        "from sklearn.model_selection import GridSearchCV\n",
        "from sklearn import metrics\n",
        "from sklearn.metrics import log_loss, roc_auc_score,roc_curve,auc,confusion_matrix\n",
        "\n",
        "import warnings\n",
        "warnings.filterwarnings(\"ignore\")\n"
      ],
      "execution_count": null,
      "outputs": [
        {
          "output_type": "stream",
          "text": [
            "[nltk_data] Downloading package wordnet to /root/nltk_data...\n",
            "[nltk_data]   Package wordnet is already up-to-date!\n"
          ],
          "name": "stdout"
        }
      ]
    },
    {
      "cell_type": "code",
      "metadata": {
        "trusted": true,
        "id": "0WeqpKh4SR4P",
        "outputId": "e5b74f51-04ee-4d85-b535-85f1837d3350",
        "colab": {
          "base_uri": "https://localhost:8080/",
          "height": 190
        }
      },
      "source": [
        "train = pd.read_csv('/content/train.csv')\n",
        "test = pd.read_csv('/content/test.csv')\n",
        "labels = ['toxic','severe_toxic','obscene','threat','insult','identity_hate']\n",
        "target = train[labels].astype(np.int8)\n",
        "train.head()"
      ],
      "execution_count": null,
      "outputs": [
        {
          "output_type": "execute_result",
          "data": {
            "text/html": [
              "<div>\n",
              "<style scoped>\n",
              "    .dataframe tbody tr th:only-of-type {\n",
              "        vertical-align: middle;\n",
              "    }\n",
              "\n",
              "    .dataframe tbody tr th {\n",
              "        vertical-align: top;\n",
              "    }\n",
              "\n",
              "    .dataframe thead th {\n",
              "        text-align: right;\n",
              "    }\n",
              "</style>\n",
              "<table border=\"1\" class=\"dataframe\">\n",
              "  <thead>\n",
              "    <tr style=\"text-align: right;\">\n",
              "      <th></th>\n",
              "      <th>id</th>\n",
              "      <th>comment_text</th>\n",
              "      <th>toxic</th>\n",
              "      <th>severe_toxic</th>\n",
              "      <th>obscene</th>\n",
              "      <th>threat</th>\n",
              "      <th>insult</th>\n",
              "      <th>identity_hate</th>\n",
              "    </tr>\n",
              "  </thead>\n",
              "  <tbody>\n",
              "    <tr>\n",
              "      <th>0</th>\n",
              "      <td>0000997932d777bf</td>\n",
              "      <td>Explanation\\nWhy the edits made under my usern...</td>\n",
              "      <td>0</td>\n",
              "      <td>0</td>\n",
              "      <td>0</td>\n",
              "      <td>0</td>\n",
              "      <td>0</td>\n",
              "      <td>0</td>\n",
              "    </tr>\n",
              "    <tr>\n",
              "      <th>1</th>\n",
              "      <td>000103f0d9cfb60f</td>\n",
              "      <td>D'aww! He matches this background colour I'm s...</td>\n",
              "      <td>0</td>\n",
              "      <td>0</td>\n",
              "      <td>0</td>\n",
              "      <td>0</td>\n",
              "      <td>0</td>\n",
              "      <td>0</td>\n",
              "    </tr>\n",
              "    <tr>\n",
              "      <th>2</th>\n",
              "      <td>000113f07ec002fd</td>\n",
              "      <td>Hey man, I'm really not trying to edit war. It...</td>\n",
              "      <td>0</td>\n",
              "      <td>0</td>\n",
              "      <td>0</td>\n",
              "      <td>0</td>\n",
              "      <td>0</td>\n",
              "      <td>0</td>\n",
              "    </tr>\n",
              "    <tr>\n",
              "      <th>3</th>\n",
              "      <td>0001b41b1c6bb37e</td>\n",
              "      <td>\"\\nMore\\nI can't make any real suggestions on ...</td>\n",
              "      <td>0</td>\n",
              "      <td>0</td>\n",
              "      <td>0</td>\n",
              "      <td>0</td>\n",
              "      <td>0</td>\n",
              "      <td>0</td>\n",
              "    </tr>\n",
              "    <tr>\n",
              "      <th>4</th>\n",
              "      <td>0001d958c54c6e35</td>\n",
              "      <td>You, sir, are my hero. Any chance you remember...</td>\n",
              "      <td>0</td>\n",
              "      <td>0</td>\n",
              "      <td>0</td>\n",
              "      <td>0</td>\n",
              "      <td>0</td>\n",
              "      <td>0</td>\n",
              "    </tr>\n",
              "  </tbody>\n",
              "</table>\n",
              "</div>"
            ],
            "text/plain": [
              "                 id  ... identity_hate\n",
              "0  0000997932d777bf  ...             0\n",
              "1  000103f0d9cfb60f  ...             0\n",
              "2  000113f07ec002fd  ...             0\n",
              "3  0001b41b1c6bb37e  ...             0\n",
              "4  0001d958c54c6e35  ...             0\n",
              "\n",
              "[5 rows x 8 columns]"
            ]
          },
          "metadata": {
            "tags": []
          },
          "execution_count": 29
        }
      ]
    },
    {
      "cell_type": "code",
      "metadata": {
        "_uuid": "d629ff2d2480ee46fbb7e2d37f6b5fab8052498a",
        "_cell_guid": "79c7e3d0-c299-4dcb-8224-4455121ee9b0",
        "trusted": true,
        "id": "Xq4uahd5SR4S"
      },
      "source": [
        "appo = {\n",
        "\"aren't\" : \"are not\",\n",
        "\"can't\" : \"can not\",\n",
        "\"couldn't\" : \"could not\",\n",
        "\"didn't\" : \"did not\",\n",
        "\"don't\" : \"do not\",\n",
        "\"hadn't\" : \"had not\",\n",
        "\"hasn't\" : \"has not\",\n",
        "\"haven't\" : \"have not\",\n",
        "\"he'd\" : \"he would\",\n",
        "\"he'll\" : \"he will\",\n",
        "\"he's\" : \"he is\",\n",
        "\"i'd\" : \"i would\",\n",
        "\"i'd\" : \"i had\",\n",
        "\"i'll\" : \"i will\",\n",
        "\"i'm\" : \"I am\",\n",
        "\"isn't\" : \"is not\",\n",
        "\"it's\" : \"it is\",\n",
        "\"it'll\":\"it will\",\n",
        "\"i've\" : \"I have\",\n",
        "\"let's\" : \"let us\",\n",
        "\"mightn't\" : \"might not\",\n",
        "\"mustn't\" : \"must not\",\n",
        "\"shan't\" : \"shall not\",\n",
        "\"she'd\" : \"she would\",\n",
        "\"she'll\" : \"she will\",\n",
        "\"she's\" : \"she is\",\n",
        "\"shouldn't\" : \"should not\",\n",
        "\"that's\" : \"that is\",\n",
        "\"there's\" : \"there is\",\n",
        "\"they'd\" : \"they would\",\n",
        "\"they'll\" : \"they will\",\n",
        "\"they're\" : \"they are\",\n",
        "\"they've\" : \"they have\",\n",
        "\"we'd\" : \"we would\",\n",
        "\"we're\" : \"we are\",\n",
        "\"weren't\" : \"were not\",\n",
        "\"we've\" : \"we have\",\n",
        "\"what'll\" : \"what will\",\n",
        "\"what're\" : \"what are\",\n",
        "\"what's\" : \"what is\",\n",
        "\"what've\" : \"what have\",\n",
        "\"where's\" : \"where is\",\n",
        "\"who'd\" : \"who would\",\n",
        "\"who'll\" : \"who will\",\n",
        "\"who're\" : \"who are\",\n",
        "\"who's\" : \"who is\",\n",
        "\"who've\" : \"who have\",\n",
        "\"won't\" : \"will not\",\n",
        "\"wouldn't\" : \"would not\",\n",
        "\"you'd\" : \"you would\",\n",
        "\"you'll\" : \"you will\",\n",
        "\"you're\" : \"you are\",\n",
        "\"you've\" : \"you have\",\n",
        "\"'re\": \" are\",\n",
        "\"wasn't\" : \"was not\",\n",
        "\"we'll\" : \" will\",\n",
        "\"tryin'\" : \"trying\",\n",
        "\"yay!\" : \" good \",\n",
        "\"yay\" : \" good \",\n",
        "\"yaay\" : \" good \",\n",
        "\"yaaay\" : \" good \",\n",
        "\"yaaaay\" : \" good \",\n",
        "\"yaaaaay\" : \" good \",\n",
        "\":/\" : \" bad \",\n",
        "\":&gt;\" : \" sad \",\n",
        "\":')\" : \" sad \",\n",
        "\":-(\" : \" frown \",\n",
        "\":(\" : \" frown \",\n",
        "\":s\": \" frown \",\n",
        "\":-s\": \" frown \",\n",
        "\"&lt;3\": \" heart \",\n",
        "\":d\": \" smile \",\n",
        "\":p\": \" smile \",\n",
        "\":dd\": \" smile \",\n",
        "\"8)\": \" smile \",\n",
        "\":-)\": \" smile \",\n",
        "\":)\": \" smile \",\n",
        "\";)\": \" smile \",\n",
        "\"(-:\": \" smile \",\n",
        "\"(:\": \" smile \",\n",
        "\":/\": \" worry \",\n",
        "\":&gt;\": \" angry \",\n",
        "\":')\": \" sad \",\n",
        "\":-(\": \" sad \",\n",
        "\":(\": \" sad \",\n",
        "\":s\": \" sad \",\n",
        "\":-s\": \" sad \",\n",
        "r\"\\br\\b\": \"are\",\n",
        "r\"\\bu\\b\": \"you\",\n",
        "r\"\\bhaha\\b\": \"ha\",\n",
        "r\"\\bhahaha\\b\": \"ha\",\n",
        "r\"\\bdon't\\b\": \"do not\",\n",
        "r\"\\bdoesn't\\b\": \"does not\",\n",
        "r\"\\bdidn't\\b\": \"did not\",\n",
        "r\"\\bhasn't\\b\": \"has not\",\n",
        "r\"\\bhaven't\\b\": \"have not\",\n",
        "r\"\\bhadn't\\b\": \"had not\",\n",
        "r\"\\bwon't\\b\": \"will not\",\n",
        "r\"\\bwouldn't\\b\": \"would not\",\n",
        "r\"\\bcan't\\b\": \"can not\",\n",
        "r\"\\bcannot\\b\": \"can not\",\n",
        "r\"\\bi'm\\b\": \"i am\",\n",
        "\"m\": \"am\",\n",
        "\"r\": \"are\",\n",
        "\"u\": \"you\",\n",
        "\"haha\": \"ha\",\n",
        "\"hahaha\": \"ha\",\n",
        "\"doesn't\": \"does not\",\n",
        "\"cannot\": \"can not\",\n",
        "\"its\" : \"it is\",\n",
        "\"'s\" : \" is\",\n",
        "\"d'aww!\":\"cute\"\n",
        "}"
      ],
      "execution_count": null,
      "outputs": []
    },
    {
      "cell_type": "code",
      "metadata": {
        "trusted": true,
        "id": "s2sxCfSWSR4V"
      },
      "source": [
        "keys = [i for i in appo.keys()]\n",
        "\n",
        "new_train_data = []\n",
        "ltr = train[\"comment_text\"].tolist()\n",
        "for i in ltr:\n",
        "    arr = str(i).split()\n",
        "    xx = \"\"\n",
        "    for j in arr:\n",
        "        j = str(j).lower()\n",
        "        if j[:4] == 'http' or j[:3] == 'www':\n",
        "            continue\n",
        "        if j in keys:\n",
        "            # print(\"inn\")\n",
        "            j = appo[j]\n",
        "        xx += j + \" \"\n",
        "    new_train_data.append(xx)\n",
        "\n",
        "train[\"comment_text\"] = new_train_data"
      ],
      "execution_count": null,
      "outputs": []
    },
    {
      "cell_type": "code",
      "metadata": {
        "trusted": true,
        "id": "NVX3PZcgSR4X"
      },
      "source": [
        "new_test_data = []\n",
        "lte = test[\"comment_text\"].tolist()\n",
        "\n",
        "for i in lte:\n",
        "    arr = str(i).split()\n",
        "    xx = \"\"\n",
        "    for j in arr:\n",
        "        j = str(j).lower()\n",
        "        if j[:4] == 'http' or j[:3] == 'www':\n",
        "            continue\n",
        "        if j in keys:\n",
        "            # print(\"inn\")\n",
        "            j = appo[j]\n",
        "        xx += j + \" \"\n",
        "    new_test_data.append(xx)\n",
        "\n",
        "test[\"comment_text\"] = new_test_data\n"
      ],
      "execution_count": null,
      "outputs": []
    },
    {
      "cell_type": "code",
      "metadata": {
        "trusted": true,
        "id": "dwUR7XxbSR4a"
      },
      "source": [
        "trate = train[\"comment_text\"].tolist()\n",
        "tete = test[\"comment_text\"].tolist()"
      ],
      "execution_count": null,
      "outputs": []
    },
    {
      "cell_type": "code",
      "metadata": {
        "trusted": true,
        "id": "kYELUtTeSR4c"
      },
      "source": [
        "for i, c in enumerate(trate):\n",
        "    trate[i] = re.sub('[^a-zA-Z ?!]+', '', str(trate[i]).lower())\n",
        "    trate[i] = re.sub(\"\\d{1,3}\\.\\d{1,3}\\.\\d{1,3}\\.\\d{1,3}\",\"\",trate[i]) #remove ip\n",
        "    trate[i] = re.sub(\"\\[\\[.*\\]\",\"\",trate[i]) #remove user_name\n",
        "for i, c in enumerate(tete):\n",
        "    tete[i] = re.sub('[^a-zA-Z ?!]+', '', tete[i])\n",
        "    tete[i] = re.sub(\"\\d{1,3}\\.\\d{1,3}\\.\\d{1,3}\\.\\d{1,3}\",\"\",tete[i])\n",
        "    tete[i] = re.sub(\"\\[\\[.*\\]\",\"\",tete[i])\n",
        "train[\"comment_text\"] = trate\n",
        "test[\"comment_text\"] = tete\n",
        "del(trate)\n",
        "del(tete)"
      ],
      "execution_count": null,
      "outputs": []
    },
    {
      "cell_type": "markdown",
      "metadata": {
        "id": "sdzZunneQHKA"
      },
      "source": [
        "<font size=\"+2\" color=\"black\"><b> Featurizations for Machine Learning model </b></font><br><a id=\"1\"></a>"
      ]
    },
    {
      "cell_type": "markdown",
      "metadata": {
        "id": "zBXsuYX_NzFs"
      },
      "source": [
        "* I tried word based TF-IDF unigrams, and character based TF-IDF 2 to 6-grams. In case of word unigrams, we will just take into consideration one single word at each time for building TF-IDF vectors. But with using unigrams we can not capture the sequence information. It'S the major drawback. For capturing the sequence information, we may use bigrams, tri-grams etc.\n",
        "\n",
        "\n",
        "* In case of char n-grams we simply consider individual or sequence of characters rather than sequence of words. For this case study character n-gram features worked well."
      ]
    },
    {
      "cell_type": "code",
      "metadata": {
        "trusted": true,
        "id": "Wk4qqfFtSR4f"
      },
      "source": [
        "word_vectorizer = TfidfVectorizer(\n",
        "    sublinear_tf=True,\n",
        "    strip_accents='unicode',\n",
        "    analyzer='word',\n",
        "    token_pattern=r'\\w{1,}',\n",
        "    stop_words='english',\n",
        "    ngram_range=(1, 1),\n",
        "    max_features=10000)\n",
        "train_word_features = word_vectorizer.fit_transform(train['comment_text'])\n",
        "test_word_features = word_vectorizer.transform(test['comment_text'])"
      ],
      "execution_count": null,
      "outputs": []
    },
    {
      "cell_type": "code",
      "metadata": {
        "trusted": true,
        "id": "BaYgLGDqSR4i"
      },
      "source": [
        "char_vectorizer = TfidfVectorizer(\n",
        "    sublinear_tf=True,\n",
        "    strip_accents='unicode',\n",
        "    analyzer='char',\n",
        "    stop_words='english',\n",
        "    ngram_range=(2, 6),\n",
        "    max_features=50000)\n",
        "train_char_features = char_vectorizer.fit_transform(train['comment_text'])\n",
        "test_char_features = char_vectorizer.transform(test['comment_text'])"
      ],
      "execution_count": null,
      "outputs": []
    },
    {
      "cell_type": "code",
      "metadata": {
        "trusted": true,
        "id": "6f8SNipsSR4k"
      },
      "source": [
        "train_features = hstack([train_char_features, train_word_features]).tocsr()\n",
        "test_features = hstack([test_char_features, test_word_features]).tocsr()"
      ],
      "execution_count": null,
      "outputs": []
    },
    {
      "cell_type": "code",
      "metadata": {
        "id": "EvHFtdlBU7E5"
      },
      "source": [
        "del(train_char_features)\n",
        "del(test_char_features)\n",
        "del(train_word_features)\n",
        "del(test_word_features)"
      ],
      "execution_count": null,
      "outputs": []
    },
    {
      "cell_type": "code",
      "metadata": {
        "id": "9BJka1RwU9GQ"
      },
      "source": [
        "del(train)\n",
        "del(test)"
      ],
      "execution_count": null,
      "outputs": []
    },
    {
      "cell_type": "markdown",
      "metadata": {
        "id": "PKmHI6YfLNQ6"
      },
      "source": [
        "<font size=\"+2\" color=\"black\"><b> Hyper Parameter Tuning </b></font><br><a id=\"1\"></a>"
      ]
    },
    {
      "cell_type": "markdown",
      "metadata": {
        "id": "4m8EbRuPSjPa"
      },
      "source": [
        "Now I decide to do grid search to seek for the \"optimal\" hyperparameters for the baseline model that I've chose. Since there is 6 different lables, tuning models for each label would be time expensive, so I will use the most common label \"Toxic\" to tune hyperparameters."
      ]
    },
    {
      "cell_type": "code",
      "metadata": {
        "id": "Bk1InQ8qXpn8"
      },
      "source": [
        "X_train, X_test, y_train, y_test = train_test_split(train_features, target, test_size=0.2, random_state=0)"
      ],
      "execution_count": null,
      "outputs": []
    },
    {
      "cell_type": "code",
      "metadata": {
        "id": "puOWmrtGKAdw",
        "outputId": "8d807cb5-5f9a-4826-fe2e-6b9404eb37cb",
        "colab": {
          "base_uri": "https://localhost:8080/"
        }
      },
      "source": [
        "logistic_regression_classifier = LogisticRegression()\n",
        "\n",
        "parameter_grid = {'C':[0.01,0.1,0.25,0.5,1],\n",
        "                  'solver' : ['lbfgs', 'newton-cg'],\n",
        "                  'fit_intercept' : [True,False],\n",
        "                  'penalty'       : ['l1', 'l2'],\n",
        "                  'class_weight'  : [None, 'balanced']}\n",
        "\n",
        "cross_validation = StratifiedKFold(n_splits=3)\n",
        "\n",
        "grid_search = GridSearchCV(logistic_regression_classifier,\n",
        "                           param_grid=parameter_grid,\n",
        "                           cv=cross_validation,\n",
        "                           scoring='roc_auc')\n",
        "\n",
        "grid_search.fit(X_train, y_train['toxic'])\n",
        "\n",
        "print('Best parameters: {}'.format(grid_search.best_params_))\n",
        "\n",
        "grid_search.best_estimator_"
      ],
      "execution_count": null,
      "outputs": [
        {
          "output_type": "stream",
          "text": [
            "Best parameters: {'C': 1, 'class_weight': None, 'fit_intercept': True, 'penalty': 'l2', 'solver': 'lbfgs'}\n"
          ],
          "name": "stdout"
        },
        {
          "output_type": "execute_result",
          "data": {
            "text/plain": [
              "LogisticRegression(C=1, class_weight=None, dual=False, fit_intercept=True,\n",
              "                   intercept_scaling=1, l1_ratio=None, max_iter=100,\n",
              "                   multi_class='auto', n_jobs=None, penalty='l2',\n",
              "                   random_state=None, solver='lbfgs', tol=0.0001, verbose=0,\n",
              "                   warm_start=False)"
            ]
          },
          "metadata": {
            "tags": []
          },
          "execution_count": 19
        }
      ]
    },
    {
      "cell_type": "markdown",
      "metadata": {
        "id": "ij4JTlNch-vU"
      },
      "source": [
        "**The ROC curves for our baseline model’s performance on each toxicity type as classified by our baseline model.**"
      ]
    },
    {
      "cell_type": "code",
      "metadata": {
        "id": "uO_n9053Tbpw",
        "outputId": "fbc9392a-d07e-4646-bcd2-cf4b091b6706",
        "colab": {
          "base_uri": "https://localhost:8080/",
          "height": 630
        }
      },
      "source": [
        "scores = []\n",
        "d = {k:[] for k in y_test.columns.tolist()}\n",
        "plt.figure(0,figsize=(8,8)).clf()\n",
        "plt.xlim([0.0, 1.0])\n",
        "plt.ylim([0.0, 1.05])\n",
        "plt.xlabel('False Positive Rate')\n",
        "plt.ylabel('True Positive Rate')\n",
        "avg_auc = 0\n",
        "for class_ in labels:\n",
        "    logR = OneVsRestClassifier(LogisticRegression(C=1, class_weight=None, dual=False, fit_intercept=True,\n",
        "                                                  intercept_scaling=1, l1_ratio=None, max_iter=100,\n",
        "                                                  multi_class='auto', n_jobs=None, penalty='l2',\n",
        "                                                  random_state=None, solver='lbfgs', tol=0.0001, verbose=0,\n",
        "                                                  warm_start=False), n_jobs=-1)\n",
        "\n",
        "    cv_score = np.mean(cross_val_score(logR, X_train, y_train[class_], cv=3, scoring='roc_auc'))\n",
        "    scores.append(cv_score)\n",
        "    print('CV score for class {} is {}'.format(class_, cv_score))\n",
        "\n",
        "    logR.fit(X_train, y_train[class_])\n",
        "    prediction = logR.predict_proba(X_test)\n",
        "    actual = y_test[class_]\n",
        "    fpr, tpr, threshold = roc_curve(actual,prediction[:,1])\n",
        "    d[class_] = d[class_] + np.where(prediction[:,1]>=threshold[np.argmax(tpr-fpr)],1,0).tolist()\n",
        "    AUC = np.round(roc_auc_score(actual,prediction[:,1]),2)\n",
        "    avg_auc = avg_auc + AUC\n",
        "    plt.plot(fpr,tpr,label=class_+\" AUC = \"+str(AUC))\n",
        "    plt.legend(loc=\"lower right\")\n",
        "plt.title('Receiver Operating Characteristic Curve')"
      ],
      "execution_count": null,
      "outputs": [
        {
          "output_type": "stream",
          "text": [
            "CV score for class toxic is 0.9771289513607931\n",
            "CV score for class severe_toxic is 0.9881334536260106\n",
            "CV score for class obscene is 0.989830668082381\n",
            "CV score for class threat is 0.9894840635726038\n",
            "CV score for class insult is 0.9825558121209713\n",
            "CV score for class identity_hate is 0.9824200619741305\n"
          ],
          "name": "stdout"
        },
        {
          "output_type": "execute_result",
          "data": {
            "text/plain": [
              "Text(0.5, 1.0, 'Receiver Operating Characteristic Curve')"
            ]
          },
          "metadata": {
            "tags": []
          },
          "execution_count": 27
        },
        {
          "output_type": "display_data",
          "data": {
            "image/png": "[encoded data removed]",
            "text/plain": [
              "<Figure size 576x576 with 1 Axes>"
            ]
          },
          "metadata": {
            "tags": [],
            "needs_background": "light"
          }
        }
      ]
    },
    {
      "cell_type": "markdown",
      "metadata": {
        "id": "sgcWhbaCibYs"
      },
      "source": [
        "With this baseline model, we found relatively good performance as measured by the ROC curves for each toxicity type.\n"
      ]
    },
    {
      "cell_type": "markdown",
      "metadata": {
        "id": "_N5qey3pjAqs"
      },
      "source": [
        "We will train our model with 3 fold cross-validation. We will compute ROC-AUC score for all toxicity labels and for all folds. After tha, we will take the average score of all 3 folds."
      ]
    },
    {
      "cell_type": "code",
      "metadata": {
        "trusted": true,
        "id": "eY74XhfASR43",
        "outputId": "f2cb3665-c738-4a79-894d-52da0529ee4f",
        "colab": {
          "base_uri": "https://localhost:8080/"
        }
      },
      "source": [
        "folds = 3\n",
        "scores = []\n",
        "scores_classes = np.zeros((len(labels), folds))\n",
        "\n",
        "submission = pd.DataFrame.from_dict({'id': test['id']})\n",
        "kf = KFold(n_splits=folds, shuffle=True, random_state=239)\n",
        "\n",
        "for j, (class_name) in enumerate(labels):\n",
        "#    train_target = train[class_name]\n",
        "\n",
        "    classifier = classifier = Pipeline([\n",
        "                ('clf', OneVsRestClassifier(LogisticRegression(C=1, class_weight=None, dual=False, fit_intercept=True,\n",
        "                                                                intercept_scaling=1, l1_ratio=None, max_iter=100,\n",
        "                                                               multi_class='auto', n_jobs=None, penalty='l2',\n",
        "                                                               random_state=None, solver='lbfgs', tol=0.0001, verbose=0,\n",
        "                                                               warm_start=False), n_jobs=-1)) ])\n",
        "\n",
        "    avreal = target[class_name]\n",
        "    lr_cv_sum = 0\n",
        "    lr_pred = []\n",
        "    lr_fpred = []\n",
        "    lr_avpred = np.zeros(train.shape[0])\n",
        "\n",
        "\n",
        "    for i, (train_index, val_index) in enumerate(kf.split(train_features)):\n",
        "        X_train, X_val = train_features[train_index], train_features[val_index]\n",
        "        y_train, y_val = target.loc[train_index], target.loc[val_index]\n",
        "\n",
        "        classifier.fit(X_train, y_train[class_name])\n",
        "        scores_val = classifier.predict_proba(X_val)[:, 1]\n",
        "        lr_avpred[val_index] = scores_val\n",
        "        lr_y_pred = classifier.predict_proba(test_features)[:, 1]\n",
        "        scores_classes[j][i] = roc_auc_score(y_val[class_name], scores_val)\n",
        "        print('\\n Fold %02d class %s AUC: %.6f' % ((i+1), class_name, scores_classes[j][i]))\n",
        "\n",
        "        if i > 0:\n",
        "            lr_fpred = lr_pred + lr_y_pred\n",
        "        else:\n",
        "            lr_fpred = lr_y_pred\n",
        "\n",
        "        lr_pred = lr_fpred\n",
        "\n",
        "    lr_cv_score = (lr_cv_sum / folds)\n",
        "    lr_oof_auc = roc_auc_score(avreal, lr_avpred)\n",
        "    print('\\n Average class %s AUC:\\t%.6f' % (class_name, np.mean(scores_classes[j])))\n",
        "    print(' Out-of-fold class %s AUC:\\t%.6f' % (class_name, lr_oof_auc))\n",
        "\n",
        "\n",
        "    submission[class_name] = lr_pred / folds\n",
        "\n",
        "\n",
        "print('\\n Overall AUC:\\t%.6f' % (np.mean(scores_classes)))\n",
        "\n"
      ],
      "execution_count": null,
      "outputs": [
        {
          "output_type": "stream",
          "text": [
            "\n",
            " Fold 01 class toxic AUC: 0.978600\n",
            "\n",
            " Fold 02 class toxic AUC: 0.977350\n",
            "\n",
            " Fold 03 class toxic AUC: 0.977662\n",
            "\n",
            " Average class toxic AUC:\t0.977871\n",
            " Out-of-fold class toxic AUC:\t0.977867\n",
            "\n",
            " Fold 01 class severe_toxic AUC: 0.987930\n",
            "\n",
            " Fold 02 class severe_toxic AUC: 0.988125\n",
            "\n",
            " Fold 03 class severe_toxic AUC: 0.988631\n",
            "\n",
            " Average class severe_toxic AUC:\t0.988229\n",
            " Out-of-fold class severe_toxic AUC:\t0.988234\n",
            "\n",
            " Fold 01 class obscene AUC: 0.989774\n",
            "\n",
            " Fold 02 class obscene AUC: 0.989429\n",
            "\n",
            " Fold 03 class obscene AUC: 0.990390\n",
            "\n",
            " Average class obscene AUC:\t0.989864\n",
            " Out-of-fold class obscene AUC:\t0.989865\n",
            "\n",
            " Fold 01 class threat AUC: 0.988658\n",
            "\n",
            " Fold 02 class threat AUC: 0.989017\n",
            "\n",
            " Fold 03 class threat AUC: 0.991512\n",
            "\n",
            " Average class threat AUC:\t0.989729\n",
            " Out-of-fold class threat AUC:\t0.989693\n",
            "\n",
            " Fold 01 class insult AUC: 0.981374\n",
            "\n",
            " Fold 02 class insult AUC: 0.982588\n",
            "\n",
            " Fold 03 class insult AUC: 0.982532\n",
            "\n",
            " Average class insult AUC:\t0.982165\n",
            " Out-of-fold class insult AUC:\t0.982161\n",
            "\n",
            " Fold 01 class identity_hate AUC: 0.983996\n",
            "\n",
            " Fold 02 class identity_hate AUC: 0.983650\n",
            "\n",
            " Fold 03 class identity_hate AUC: 0.980603\n",
            "\n",
            " Average class identity_hate AUC:\t0.982750\n",
            " Out-of-fold class identity_hate AUC:\t0.982756\n",
            "\n",
            " Overall AUC:\t0.985101\n"
          ],
          "name": "stdout"
        }
      ]
    },
    {
      "cell_type": "code",
      "metadata": {
        "trusted": true,
        "id": "-EMC2lV-SR5A"
      },
      "source": [
        "submission.to_csv('submission-OvsR-LR.csv', index=False)\n"
      ],
      "execution_count": null,
      "outputs": []
    },
    {
      "cell_type": "markdown",
      "metadata": {
        "id": "CAZtq6Kxj3_z"
      },
      "source": [
        "The mean ROC AUC across the 6 labels on the blind test set private score was **0.98019** and public score was **0.97961**, which is good performance for a baseline.\n",
        "\n",
        "Since the number of true negatives (non-toxic comments) in our dataset is large and ROC curves plot the true positive rate (TPR = TP/(TP + FN)) vs. the false positive rate (FPR = FP/(FP + TN)), their appearance is biased by this imbalance in our dataset. However, since the mean AUC for these ROC curves was the official metric of the Kaggle challenge, I used it as my primary evaulation metric."
      ]
    },
    {
      "cell_type": "markdown",
      "metadata": {
        "id": "oNAoRmUnknt7"
      },
      "source": [
        "![ovsr.PNG](data:image/png;base64,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)"
      ]
    }
  ]
}