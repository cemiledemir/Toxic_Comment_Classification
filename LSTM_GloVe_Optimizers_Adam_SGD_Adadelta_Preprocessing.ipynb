{
  "nbformat": 4,
  "nbformat_minor": 0,
  "metadata": {
    "colab": {
      "provenance": []
    },
    "kernelspec": {
      "name": "python3",
      "display_name": "Python 3"
    },
    "accelerator": "GPU"
  },
  "cells": [
    {
      "cell_type": "markdown",
      "metadata": {
        "id": "b3d_9YYazr3Q"
      },
      "source": [
        "# **Long Short Therm Memory**\n",
        "\n",
        "## Word Embedding: GloVe 6B 100d\n",
        "##Optimizers: Adam/ SGD /AdaDelta"
      ]
    },
    {
      "cell_type": "markdown",
      "metadata": {
        "id": "3TyLM_UykTm9"
      },
      "source": [
        "**Word Embeddings**\n",
        "\n",
        "\n",
        "Words and ngrams have been primarily used as features in text classification. I did vectorized the texts using bag of words based features, now I will rely on neural embedding models. I will use a pre-trained embedding model.  There are several pre-trained word2vec models trained on large corpora that one can download from the internet. GloVe(Global Vector) is one of popular pre-trained embedding algorithm from [Stanford](https://nlp.stanford.edu/projects/glove/)."
      ]
    },
    {
      "cell_type": "markdown",
      "metadata": {
        "id": "HS3TBEPJjsUm"
      },
      "source": [
        "The advantage of using embedding based features is that they create a dense, low-dimensional feature representation instead of the sparse, high-dimensional structure of bag of words/TFIDF and other such features."
      ]
    },
    {
      "cell_type": "markdown",
      "metadata": {
        "id": "-bDXGVKbvsIz"
      },
      "source": [
        "**GloVe Embeddings**\n",
        "\n",
        "GloVe is commonly used method of obtaining pre-trained embeddings. GloVe aims to achieve two goals:\n",
        "\n",
        "Create word vectors that capture meaning in vector space Takes advantage of global count statistics instead of only local information There are a lot of online material available to explain the concept about GloVe. So my focus here will be on, how to use pre-trained Glove word embeddings. I will provide relevant resources to look into more details.\n",
        "\n",
        "**Download the pre-trained glove file:**\n",
        "\n",
        "I will be using glove.6B file which is trained on Wikipedia 2014 + Gigaword 5 (6B tokens, 400K vocab, uncased, 100d vectors, 822 MB download)."
      ]
    },
    {
      "cell_type": "code",
      "metadata": {
        "id": "AI2GLilxe9V6",
        "outputId": "b6346fea-3981-41ba-9443-7d3c75662cb3",
        "colab": {
          "base_uri": "https://localhost:8080/",
          "height": 372
        }
      },
      "source": [
        "!wget http://nlp.stanford.edu/data/glove.6B.zip"
      ],
      "execution_count": null,
      "outputs": [
        {
          "output_type": "stream",
          "text": [
            "--2020-10-05 18:21:59--  http://nlp.stanford.edu/data/glove.6B.zip\n",
            "Resolving nlp.stanford.edu (nlp.stanford.edu)... 171.64.67.140\n",
            "Connecting to nlp.stanford.edu (nlp.stanford.edu)|171.64.67.140|:80... connected.\n",
            "HTTP request sent, awaiting response... 302 Found\n",
            "Location: https://nlp.stanford.edu/data/glove.6B.zip [following]\n",
            "--2020-10-05 18:21:59--  https://nlp.stanford.edu/data/glove.6B.zip\n",
            "Connecting to nlp.stanford.edu (nlp.stanford.edu)|171.64.67.140|:443... connected.\n",
            "HTTP request sent, awaiting response... 301 Moved Permanently\n",
            "Location: http://downloads.cs.stanford.edu/nlp/data/glove.6B.zip [following]\n",
            "--2020-10-05 18:22:00--  http://downloads.cs.stanford.edu/nlp/data/glove.6B.zip\n",
            "Resolving downloads.cs.stanford.edu (downloads.cs.stanford.edu)... 171.64.64.22\n",
            "Connecting to downloads.cs.stanford.edu (downloads.cs.stanford.edu)|171.64.64.22|:80... connected.\n",
            "HTTP request sent, awaiting response... 200 OK\n",
            "Length: 862182613 (822M) [application/zip]\n",
            "Saving to: ‘glove.6B.zip’\n",
            "\n",
            "glove.6B.zip        100%[===================>] 822.24M  2.19MB/s    in 6m 30s  \n",
            "\n",
            "2020-10-05 18:28:30 (2.11 MB/s) - ‘glove.6B.zip’ saved [862182613/862182613]\n",
            "\n"
          ],
          "name": "stdout"
        }
      ]
    },
    {
      "cell_type": "code",
      "metadata": {
        "id": "_hpMHrMafBbq"
      },
      "source": [
        "!unzip -q ./glove.6B.zip"
      ],
      "execution_count": null,
      "outputs": []
    },
    {
      "cell_type": "code",
      "metadata": {
        "id": "HeDiI9_b049M"
      },
      "source": [
        "import pandas as pd\n",
        "import numpy as np\n",
        "import re\n",
        "import matplotlib.pyplot as plt\n",
        "\n",
        "\n",
        "from tensorflow.keras import regularizers, initializers, optimizers\n",
        "from keras.callbacks import EarlyStopping, ModelCheckpoint, CSVLogger, Callback\n",
        "from tensorflow.keras.preprocessing.sequence import pad_sequences\n",
        "from tensorflow.keras.preprocessing.text import Tokenizer\n",
        "from keras.utils.np_utils import to_categorical\n",
        "from tensorflow.keras.layers import *\n",
        "from tensorflow.keras.models import Model\n",
        "import tensorflow as tf\n",
        "from sklearn.model_selection import train_test_split\n",
        "from keras.optimizers import SGD, RMSprop, Adagrad, Adadelta, Adam, Adamax, Nadam\n",
        "\n",
        "\n",
        "from sklearn.metrics import accuracy_score, f1_score, recall_score, precision_score, roc_auc_score, roc_curve\n",
        "\n",
        "\n",
        "MAX_NB_WORDS = 100000    # max no. of words for tokenizer\n",
        "MAX_SEQUENCE_LENGTH = 400 # max length of each entry (sentence), including padding\n",
        "VALIDATION_SPLIT = 0.2   # data for validation (not used in training)\n",
        "EMBEDDING_DIM = 100      # embedding dimensions for word vectors (word2vec/GloVe)\n",
        "GLOVE_DIR = \"/content/glove.6B.\"+str(EMBEDDING_DIM)+\"d.txt\"\n"
      ],
      "execution_count": null,
      "outputs": []
    },
    {
      "cell_type": "code",
      "metadata": {
        "id": "QpEEa1HO0_an"
      },
      "source": [
        "train = pd.read_csv('/content/train.csv')\n",
        "test = pd.read_csv('/content/test.csv')\n",
        "labels = [\"toxic\", \"severe_toxic\", \"obscene\", \"threat\", \"insult\", \"identity_hate\"]\n",
        "y = train[labels].values"
      ],
      "execution_count": null,
      "outputs": []
    },
    {
      "cell_type": "markdown",
      "metadata": {
        "id": "-XkFte7Bv3RL"
      },
      "source": [
        "**Preprocessing**"
      ]
    },
    {
      "cell_type": "code",
      "metadata": {
        "id": "9AFIYMNy_Z9F"
      },
      "source": [
        "appo = {\n",
        "\"aren't\" : \"are not\",\n",
        "\"can't\" : \"can not\",\n",
        "\"couldn't\" : \"could not\",\n",
        "\"didn't\" : \"did not\",\n",
        "\"don't\" : \"do not\",\n",
        "\"hadn't\" : \"had not\",\n",
        "\"hasn't\" : \"has not\",\n",
        "\"haven't\" : \"have not\",\n",
        "\"he'd\" : \"he would\",\n",
        "\"he'll\" : \"he will\",\n",
        "\"he's\" : \"he is\",\n",
        "\"i'd\" : \"i would\",\n",
        "\"i'd\" : \"i had\",\n",
        "\"i'll\" : \"i will\",\n",
        "\"i'm\" : \"I am\",\n",
        "\"isn't\" : \"is not\",\n",
        "\"it's\" : \"it is\",\n",
        "\"it'll\":\"it will\",\n",
        "\"i've\" : \"I have\",\n",
        "\"let's\" : \"let us\",\n",
        "\"mightn't\" : \"might not\",\n",
        "\"mustn't\" : \"must not\",\n",
        "\"shan't\" : \"shall not\",\n",
        "\"she'd\" : \"she would\",\n",
        "\"she'll\" : \"she will\",\n",
        "\"she's\" : \"she is\",\n",
        "\"shouldn't\" : \"should not\",\n",
        "\"that's\" : \"that is\",\n",
        "\"there's\" : \"there is\",\n",
        "\"they'd\" : \"they would\",\n",
        "\"they'll\" : \"they will\",\n",
        "\"they're\" : \"they are\",\n",
        "\"they've\" : \"they have\",\n",
        "\"we'd\" : \"we would\",\n",
        "\"we're\" : \"we are\",\n",
        "\"weren't\" : \"were not\",\n",
        "\"we've\" : \"we have\",\n",
        "\"what'll\" : \"what will\",\n",
        "\"what're\" : \"what are\",\n",
        "\"what's\" : \"what is\",\n",
        "\"what've\" : \"what have\",\n",
        "\"where's\" : \"where is\",\n",
        "\"who'd\" : \"who would\",\n",
        "\"who'll\" : \"who will\",\n",
        "\"who're\" : \"who are\",\n",
        "\"who's\" : \"who is\",\n",
        "\"who've\" : \"who have\",\n",
        "\"won't\" : \"will not\",\n",
        "\"wouldn't\" : \"would not\",\n",
        "\"you'd\" : \"you would\",\n",
        "\"you'll\" : \"you will\",\n",
        "\"you're\" : \"you are\",\n",
        "\"you've\" : \"you have\",\n",
        "\"'re\": \" are\",\n",
        "\"wasn't\" : \"was not\",\n",
        "\"we'll\" : \" will\",\n",
        "\"tryin'\" : \"trying\",\n",
        "\"yay!\" : \" good \",\n",
        "\"yay\" : \" good \",\n",
        "\"yaay\" : \" good \",\n",
        "\"yaaay\" : \" good \",\n",
        "\"yaaaay\" : \" good \",\n",
        "\"yaaaaay\" : \" good \",\n",
        "\":/\" : \" bad \",\n",
        "\":&gt;\" : \" sad \",\n",
        "\":')\" : \" sad \",\n",
        "\":-(\" : \" frown \",\n",
        "\":(\" : \" frown \",\n",
        "\":s\": \" frown \",\n",
        "\":-s\": \" frown \",\n",
        "\"&lt;3\": \" heart \",\n",
        "\":d\": \" smile \",\n",
        "\":p\": \" smile \",\n",
        "\":dd\": \" smile \",\n",
        "\"8)\": \" smile \",\n",
        "\":-)\": \" smile \",\n",
        "\":)\": \" smile \",\n",
        "\";)\": \" smile \",\n",
        "\"(-:\": \" smile \",\n",
        "\"(:\": \" smile \",\n",
        "\":/\": \" worry \",\n",
        "\":&gt;\": \" angry \",\n",
        "\":')\": \" sad \",\n",
        "\":-(\": \" sad \",\n",
        "\":(\": \" sad \",\n",
        "\":s\": \" sad \",\n",
        "\":-s\": \" sad \",\n",
        "r\"\\br\\b\": \"are\",\n",
        "r\"\\bu\\b\": \"you\",\n",
        "r\"\\bhaha\\b\": \"ha\",\n",
        "r\"\\bhahaha\\b\": \"ha\",\n",
        "r\"\\bdon't\\b\": \"do not\",\n",
        "r\"\\bdoesn't\\b\": \"does not\",\n",
        "r\"\\bdidn't\\b\": \"did not\",\n",
        "r\"\\bhasn't\\b\": \"has not\",\n",
        "r\"\\bhaven't\\b\": \"have not\",\n",
        "r\"\\bhadn't\\b\": \"had not\",\n",
        "r\"\\bwon't\\b\": \"will not\",\n",
        "r\"\\bwouldn't\\b\": \"would not\",\n",
        "r\"\\bcan't\\b\": \"can not\",\n",
        "r\"\\bcannot\\b\": \"can not\",\n",
        "r\"\\bi'm\\b\": \"i am\",\n",
        "\"m\": \"am\",\n",
        "\"r\": \"are\",\n",
        "\"u\": \"you\",\n",
        "\"haha\": \"ha\",\n",
        "\"hahaha\": \"ha\",\n",
        "\"doesn't\": \"does not\",\n",
        "\"cannot\": \"can not\",\n",
        "\"its\" : \"it is\",\n",
        "\"'s\" : \" is\",\n",
        "}"
      ],
      "execution_count": null,
      "outputs": []
    },
    {
      "cell_type": "code",
      "metadata": {
        "id": "4D8aQWYS_hXj"
      },
      "source": [
        "keys = [i for i in appo.keys()]\n",
        "\n",
        "new_train_data = []\n",
        "ltr = train[\"comment_text\"].tolist()\n",
        "for i in ltr:\n",
        "    arr = str(i).split()\n",
        "    xx = \"\"\n",
        "    for j in arr:\n",
        "        j = str(j).lower()\n",
        "        if j[:4] == 'http' or j[:3] == 'www':\n",
        "            continue\n",
        "        if j in keys:\n",
        "            # print(\"inn\")\n",
        "            j = appo[j]\n",
        "        xx += j + \" \"\n",
        "    new_train_data.append(xx)\n",
        "\n",
        "train[\"comment_text\"] = new_train_data"
      ],
      "execution_count": null,
      "outputs": []
    },
    {
      "cell_type": "code",
      "metadata": {
        "id": "44cVaN7z_lip"
      },
      "source": [
        "new_test_data = []\n",
        "lte = test[\"comment_text\"].tolist()\n",
        "\n",
        "for i in lte:\n",
        "    arr = str(i).split()\n",
        "    xx = \"\"\n",
        "    for j in arr:\n",
        "        j = str(j).lower()\n",
        "        if j[:4] == 'http' or j[:3] == 'www':\n",
        "            continue\n",
        "        if j in keys:\n",
        "            # print(\"inn\")\n",
        "            j = appo[j]\n",
        "        xx += j + \" \"\n",
        "    new_test_data.append(xx)\n",
        "\n",
        "test[\"comment_text\"] = new_test_data"
      ],
      "execution_count": null,
      "outputs": []
    },
    {
      "cell_type": "code",
      "metadata": {
        "id": "2FV4N-Yv_nr_"
      },
      "source": [
        "trate = train[\"comment_text\"].tolist()\n",
        "tete = test[\"comment_text\"].tolist()"
      ],
      "execution_count": null,
      "outputs": []
    },
    {
      "cell_type": "code",
      "metadata": {
        "id": "zURnaNVp_pvJ"
      },
      "source": [
        "for i, c in enumerate(trate):\n",
        "    trate[i] = re.sub('[^a-zA-Z ?!]+', '', str(trate[i]).lower())\n",
        "    trate[i] = re.sub(\"\\d{1,3}\\.\\d{1,3}\\.\\d{1,3}\\.\\d{1,3}\",\"\",trate[i]) #remove ip\n",
        "    trate[i] = re.sub(\"\\[\\[.*\\]\",\"\",trate[i]) #remove user_name\n",
        "for i, c in enumerate(tete):\n",
        "    tete[i] = re.sub('[^a-zA-Z ?!]+', '', tete[i])\n",
        "    tete[i] = re.sub(\"\\d{1,3}\\.\\d{1,3}\\.\\d{1,3}\\.\\d{1,3}\",\"\",tete[i])\n",
        "    tete[i] = re.sub(\"\\[\\[.*\\]\",\"\",tete[i])\n",
        "train[\"comment_text\"] = trate\n",
        "test[\"comment_text\"] = tete"
      ],
      "execution_count": null,
      "outputs": []
    },
    {
      "cell_type": "code",
      "metadata": {
        "id": "kDAzpc7EK9JL",
        "outputId": "dd85afb5-3373-4cd6-aff0-8bbd6e82c06c",
        "colab": {
          "base_uri": "https://localhost:8080/",
          "height": 53
        }
      },
      "source": [
        "train[\"comment_text\"][0]"
      ],
      "execution_count": null,
      "outputs": [
        {
          "output_type": "execute_result",
          "data": {
            "application/vnd.google.colaboratory.intrinsic+json": {
              "type": "string"
            },
            "text/plain": [
              "'explanation why the edits made under my username hardcore metallica fan were reverted? they were not vandalisms just closure on some gas after i voted at new york dolls fac and please do not remove the template from the talk page since i am retired now '"
            ]
          },
          "metadata": {
            "tags": []
          },
          "execution_count": 43
        }
      ]
    },
    {
      "cell_type": "code",
      "metadata": {
        "id": "64DJ6-bGCAF7"
      },
      "source": [
        "comments_train = train['comment_text']\n",
        "comments_train = list(comments_train.str.lower())\n",
        "comments_test = test['comment_text']\n",
        "comments_test = list(comments_test.str.lower())"
      ],
      "execution_count": null,
      "outputs": []
    },
    {
      "cell_type": "markdown",
      "metadata": {
        "id": "NyyJWgyL0zI_"
      },
      "source": [
        "**Evaluation Metric**\n",
        "\n",
        "To evaluate the model, I'll be looking at its AUC ROC score (area under the receiver operating characteristic curve). I will be looking at the probability that the model ranks a randomly chosen positive instance higher than a randomly chosen negative one. With data that mostly consists of negative labels (no toxicity), our model could just learn to always predict negative and end up with a pretty high accuracy. AUC ROC helps correct this by putting more weight on the the positive examples.\n"
      ]
    },
    {
      "cell_type": "code",
      "metadata": {
        "id": "MnsUMKJL4c6N"
      },
      "source": [
        "class RocAucEvaluation(Callback):\n",
        "    def __init__(self, validation_data=(), interval=1):\n",
        "        super(Callback, self).__init__()\n",
        "\n",
        "        self.interval = interval\n",
        "        self.X_val, self.y_val = validation_data\n",
        "\n",
        "    def on_epoch_end(self, epoch, logs={}):\n",
        "        if epoch % self.interval == 0:\n",
        "            y_pred = self.model.predict(self.X_val, verbose=0)\n",
        "            score = roc_auc_score(self.y_val, y_pred)\n",
        "            print(\"\\n ROC-AUC - epoch: {:d} - score: {:.6f}\".format(epoch+1, score))"
      ],
      "execution_count": null,
      "outputs": []
    },
    {
      "cell_type": "code",
      "metadata": {
        "id": "i2kAWcsE_XdQ"
      },
      "source": [
        "def plot_graphs(history, metric, optimizer):\n",
        "    plt.plot(history.history[metric])\n",
        "    plt.plot(history.history['val_'+metric], '')\n",
        "    plt.title(optimizer)\n",
        "    plt.xlabel(\"Epochs\")\n",
        "    plt.ylabel(metric)\n",
        "    plt.legend([metric, 'val_'+metric])\n",
        "    plt.show()"
      ],
      "execution_count": null,
      "outputs": []
    },
    {
      "cell_type": "markdown",
      "metadata": {
        "id": "LLSBuBnFujre"
      },
      "source": [
        "**Tokenizing**\n",
        "\n",
        "When dealing with text, it is typical to assign a unique integer id to each word in the corpus. This makes it simpler to represent the data as we feed it into a model.\n",
        "\n",
        "Because this is such a common operation, Keras has built-in support for it. We need to fit the tokenizer object on our corpus so that it can assign a unique id to each word. We also initialize the tokenizer with a num_words parameter so that it knows how many of the top frequency words to take into account.\n",
        "\n",
        "**Padding**\n",
        "\n",
        "Our model would expect each input row to be of the same dimension. This means once we decide on what the chosen input comment size is, we need to chop off some part of the input comments that are too long. We would also, need to pad the comments which are shorter.\n",
        "\n",
        "Keras has built in support for this using the pad_sequences method.\n"
      ]
    },
    {
      "cell_type": "code",
      "metadata": {
        "id": "x3pVEh7NGRxt",
        "outputId": "cbba1137-e68d-4f7b-bba2-de1a0b48c34c",
        "colab": {
          "base_uri": "https://localhost:8080/",
          "height": 35
        }
      },
      "source": [
        "tokenizer = Tokenizer(num_words=MAX_NB_WORDS)\n",
        "tokenizer.fit_on_texts(comments_train)\n",
        "sequences = tokenizer.texts_to_sequences(comments_train)\n",
        "test_sequences = tokenizer.texts_to_sequences(comments_test)\n",
        "word_index = tokenizer.word_index\n",
        "print('Vocabulary size:', len(word_index))"
      ],
      "execution_count": null,
      "outputs": [
        {
          "output_type": "stream",
          "text": [
            "Vocabulary size: 217504\n"
          ],
          "name": "stdout"
        }
      ]
    },
    {
      "cell_type": "code",
      "metadata": {
        "id": "mheo_urAdMuR"
      },
      "source": [
        "data = pad_sequences(sequences, padding = 'post', maxlen = MAX_SEQUENCE_LENGTH)\n",
        "data_test = pad_sequences(test_sequences, padding = 'post', maxlen = MAX_SEQUENCE_LENGTH)"
      ],
      "execution_count": null,
      "outputs": []
    },
    {
      "cell_type": "code",
      "metadata": {
        "id": "joppQMSdeLea",
        "outputId": "ee9527e8-eff6-45b8-c6d8-fcdd1919ef99",
        "colab": {
          "base_uri": "https://localhost:8080/",
          "height": 70
        }
      },
      "source": [
        "embeddings_index = {}\n",
        "f = open(GLOVE_DIR)\n",
        "print('Loading GloVe from:', GLOVE_DIR,'...', end='')\n",
        "for line in f:\n",
        "    values = line.split()\n",
        "    word = values[0]\n",
        "    embeddings_index[word] = np.asarray(values[1:], dtype='float32')\n",
        "f.close()\n",
        "print(\"Done.\\n Proceeding with Embedding Matrix...\")\n",
        "print(f'Found {len(embeddings_index)} word vectors', end=\"\")\n",
        "\n",
        "embedding_matrix = np.random.random((len(word_index) + 1, EMBEDDING_DIM))\n",
        "for word, i in word_index.items():\n",
        "    embedding_vector = embeddings_index.get(word)\n",
        "    if embedding_vector is not None:\n",
        "        embedding_matrix[i] = embedding_vector\n",
        "print(\" Completed!\")"
      ],
      "execution_count": null,
      "outputs": [
        {
          "output_type": "stream",
          "text": [
            "Loading GloVe from: /content/glove.6B.100d.txt ...Done.\n",
            " Proceeding with Embedding Matrix...\n",
            "Found 400000 word vectors Completed!\n"
          ],
          "name": "stdout"
        }
      ]
    },
    {
      "cell_type": "markdown",
      "metadata": {
        "id": "jDZSgzWzwL-B"
      },
      "source": [
        "**MODEL**\n",
        "\n",
        "Recurrent Neural Network(RNN) with word embeddings\n",
        "\n",
        "The RNN type model used here is the LSTM model. This model is attractive because the individual cell states in the model have the ability to remove or add information to the cell state through gates layers. This is useful in practice because it allows the model to remember insights derived from words throughout the comment. The LSTM model consist of one densely connected layer with 60 units across the concatenated word vectors for each of the words in the comment\n",
        "\n",
        "Now that the data is preprocessed and our embeddings are ready, we can build a model. We will build a neural network architecture that is comprises of the following:\n",
        "\n",
        "Embedding layer - word vector representations.\n",
        "Recurrent layer (LSTM) - run multiple filters over the data.\n",
        "Fully connected layer - classify input based on filters."
      ]
    },
    {
      "cell_type": "code",
      "metadata": {
        "id": "b_78MNYBeLkc"
      },
      "source": [
        "sequence_input = Input(shape=(MAX_SEQUENCE_LENGTH,), dtype='int32')\n",
        "embedding_layer = Embedding(len(word_index) + 1,\n",
        "                           EMBEDDING_DIM,\n",
        "                           weights = [embedding_matrix],\n",
        "                           input_length = MAX_SEQUENCE_LENGTH,\n",
        "                           trainable=False,\n",
        "                           name = 'embeddings')\n",
        "embedded_sequences = embedding_layer(sequence_input)\n",
        "x = LSTM(60, return_sequences=True,name='lstm_layer')(embedded_sequences)\n",
        "x = GlobalMaxPool1D()(x)\n",
        "x = Dropout(0.1)(x)\n",
        "x = Dense(50, activation=\"relu\")(x)\n",
        "x = Dropout(0.1)(x)\n",
        "preds = Dense(6, activation=\"sigmoid\")(x)"
      ],
      "execution_count": null,
      "outputs": []
    },
    {
      "cell_type": "code",
      "metadata": {
        "id": "Eyquqqgug_Uh",
        "outputId": "fa2a6ffd-2dba-49ff-f6af-eed0f05316c2",
        "colab": {
          "base_uri": "https://localhost:8080/",
          "height": 758
        }
      },
      "source": [
        "tf.keras.utils.plot_model(model)"
      ],
      "execution_count": null,
      "outputs": [
        {
          "output_type": "execute_result",
          "data": {
            "image/png": "[encoded data removed]",
            "text/plain": [
              "<IPython.core.display.Image object>"
            ]
          },
          "metadata": {
            "tags": []
          },
          "execution_count": 75
        }
      ]
    },
    {
      "cell_type": "code",
      "metadata": {
        "id": "QwcAecgxDMwS"
      },
      "source": [
        "X_tra, X_val, y_tra, y_val = train_test_split(data, y, train_size=0.8, random_state=233)"
      ],
      "execution_count": null,
      "outputs": []
    },
    {
      "cell_type": "code",
      "metadata": {
        "id": "g5r6h1sO5c55"
      },
      "source": [
        "model = Model(sequence_input, preds)"
      ],
      "execution_count": null,
      "outputs": []
    },
    {
      "cell_type": "code",
      "metadata": {
        "id": "m2BUIa8T5j9m"
      },
      "source": [
        "ra_val = RocAucEvaluation(validation_data=(X_val, y_val), interval = 1)\n",
        "callbacks_list = [ra_val]"
      ],
      "execution_count": null,
      "outputs": []
    },
    {
      "cell_type": "code",
      "metadata": {
        "id": "uT0uDjyag8lY"
      },
      "source": [
        "model.compile(loss = 'binary_crossentropy',\n",
        "             optimizer='adam',\n",
        "             metrics = ['accuracy'])"
      ],
      "execution_count": null,
      "outputs": []
    },
    {
      "cell_type": "code",
      "metadata": {
        "id": "u7wQNpO55mSS",
        "outputId": "5e870ede-984e-47d2-9ce1-608b30cf5c93",
        "colab": {
          "base_uri": "https://localhost:8080/",
          "height": 1000
        }
      },
      "source": [
        "hist_adam = model.fit(X_tra, y_tra, batch_size=400, epochs=20, validation_data=(X_val, y_val),callbacks = callbacks_list,verbose=1)\n",
        "print('Predicting....')\n",
        "y_pred_Adam = model.predict(data_test,batch_size=1024,verbose=1)"
      ],
      "execution_count": null,
      "outputs": [
        {
          "output_type": "stream",
          "text": [
            "Epoch 1/20\n",
            "320/320 [==============================] - ETA: 0s - loss: 0.1078 - accuracy: 0.7686\n",
            " ROC-AUC - epoch: 1 - score: 0.960826\n",
            "320/320 [==============================] - 23s 72ms/step - loss: 0.1078 - accuracy: 0.7686 - val_loss: 0.0608 - val_accuracy: 0.9938\n",
            "Epoch 2/20\n",
            "320/320 [==============================] - ETA: 0s - loss: 0.0612 - accuracy: 0.9064\n",
            " ROC-AUC - epoch: 2 - score: 0.968362\n",
            "320/320 [==============================] - 23s 70ms/step - loss: 0.0612 - accuracy: 0.9064 - val_loss: 0.0552 - val_accuracy: 0.9938\n",
            "Epoch 3/20\n",
            "320/320 [==============================] - ETA: 0s - loss: 0.0564 - accuracy: 0.9246\n",
            " ROC-AUC - epoch: 3 - score: 0.972102\n",
            "320/320 [==============================] - 23s 70ms/step - loss: 0.0564 - accuracy: 0.9246 - val_loss: 0.0534 - val_accuracy: 0.9938\n",
            "Epoch 4/20\n",
            "319/320 [============================>.] - ETA: 0s - loss: 0.0534 - accuracy: 0.9454\n",
            " ROC-AUC - epoch: 4 - score: 0.975333\n",
            "320/320 [==============================] - 23s 70ms/step - loss: 0.0534 - accuracy: 0.9454 - val_loss: 0.0526 - val_accuracy: 0.9938\n",
            "Epoch 5/20\n",
            "319/320 [============================>.] - ETA: 0s - loss: 0.0509 - accuracy: 0.9551\n",
            " ROC-AUC - epoch: 5 - score: 0.977242\n",
            "320/320 [==============================] - 22s 70ms/step - loss: 0.0509 - accuracy: 0.9551 - val_loss: 0.0499 - val_accuracy: 0.9938\n",
            "Epoch 6/20\n",
            "320/320 [==============================] - ETA: 0s - loss: 0.0490 - accuracy: 0.9664\n",
            " ROC-AUC - epoch: 6 - score: 0.979129\n",
            "320/320 [==============================] - 22s 69ms/step - loss: 0.0490 - accuracy: 0.9664 - val_loss: 0.0479 - val_accuracy: 0.9937\n",
            "Epoch 7/20\n",
            "319/320 [============================>.] - ETA: 0s - loss: 0.0476 - accuracy: 0.9655\n",
            " ROC-AUC - epoch: 7 - score: 0.979378\n",
            "320/320 [==============================] - 22s 70ms/step - loss: 0.0476 - accuracy: 0.9655 - val_loss: 0.0476 - val_accuracy: 0.9934\n",
            "Epoch 8/20\n",
            "319/320 [============================>.] - ETA: 0s - loss: 0.0464 - accuracy: 0.9729\n",
            " ROC-AUC - epoch: 8 - score: 0.980683\n",
            "320/320 [==============================] - 22s 69ms/step - loss: 0.0464 - accuracy: 0.9729 - val_loss: 0.0478 - val_accuracy: 0.9938\n",
            "Epoch 9/20\n",
            "320/320 [==============================] - ETA: 0s - loss: 0.0454 - accuracy: 0.9713\n",
            " ROC-AUC - epoch: 9 - score: 0.980901\n",
            "320/320 [==============================] - 22s 70ms/step - loss: 0.0454 - accuracy: 0.9713 - val_loss: 0.0467 - val_accuracy: 0.9936\n",
            "Epoch 10/20\n",
            "320/320 [==============================] - ETA: 0s - loss: 0.0441 - accuracy: 0.9817\n",
            " ROC-AUC - epoch: 10 - score: 0.981942\n",
            "320/320 [==============================] - 22s 70ms/step - loss: 0.0441 - accuracy: 0.9817 - val_loss: 0.0463 - val_accuracy: 0.9935\n",
            "Epoch 11/20\n",
            "320/320 [==============================] - ETA: 0s - loss: 0.0435 - accuracy: 0.9813\n",
            " ROC-AUC - epoch: 11 - score: 0.981993\n",
            "320/320 [==============================] - 22s 70ms/step - loss: 0.0435 - accuracy: 0.9813 - val_loss: 0.0461 - val_accuracy: 0.9938\n",
            "Epoch 12/20\n",
            "320/320 [==============================] - ETA: 0s - loss: 0.0423 - accuracy: 0.9813\n",
            " ROC-AUC - epoch: 12 - score: 0.982051\n",
            "320/320 [==============================] - 23s 71ms/step - loss: 0.0423 - accuracy: 0.9813 - val_loss: 0.0460 - val_accuracy: 0.9922\n",
            "Epoch 13/20\n",
            "319/320 [============================>.] - ETA: 0s - loss: 0.0417 - accuracy: 0.9835\n",
            " ROC-AUC - epoch: 13 - score: 0.982862\n",
            "320/320 [==============================] - 22s 70ms/step - loss: 0.0417 - accuracy: 0.9835 - val_loss: 0.0455 - val_accuracy: 0.9936\n",
            "Epoch 14/20\n",
            "320/320 [==============================] - ETA: 0s - loss: 0.0409 - accuracy: 0.9865\n",
            " ROC-AUC - epoch: 14 - score: 0.982591\n",
            "320/320 [==============================] - 22s 70ms/step - loss: 0.0409 - accuracy: 0.9865 - val_loss: 0.0466 - val_accuracy: 0.9934\n",
            "Epoch 15/20\n",
            "319/320 [============================>.] - ETA: 0s - loss: 0.0402 - accuracy: 0.9870\n",
            " ROC-AUC - epoch: 15 - score: 0.982286\n",
            "320/320 [==============================] - 22s 70ms/step - loss: 0.0402 - accuracy: 0.9870 - val_loss: 0.0462 - val_accuracy: 0.9928\n",
            "Epoch 16/20\n",
            "319/320 [============================>.] - ETA: 0s - loss: 0.0399 - accuracy: 0.9860\n",
            " ROC-AUC - epoch: 16 - score: 0.981748\n",
            "320/320 [==============================] - 22s 70ms/step - loss: 0.0399 - accuracy: 0.9860 - val_loss: 0.0481 - val_accuracy: 0.9935\n",
            "Epoch 17/20\n",
            "320/320 [==============================] - ETA: 0s - loss: 0.0390 - accuracy: 0.9891\n",
            " ROC-AUC - epoch: 17 - score: 0.982762\n",
            "320/320 [==============================] - 22s 70ms/step - loss: 0.0390 - accuracy: 0.9891 - val_loss: 0.0457 - val_accuracy: 0.9934\n",
            "Epoch 18/20\n",
            "319/320 [============================>.] - ETA: 0s - loss: 0.0382 - accuracy: 0.9896\n",
            " ROC-AUC - epoch: 18 - score: 0.982902\n",
            "320/320 [==============================] - 22s 70ms/step - loss: 0.0382 - accuracy: 0.9896 - val_loss: 0.0459 - val_accuracy: 0.9935\n",
            "Epoch 19/20\n",
            "319/320 [============================>.] - ETA: 0s - loss: 0.0381 - accuracy: 0.9859\n",
            " ROC-AUC - epoch: 19 - score: 0.982771\n",
            "320/320 [==============================] - 22s 70ms/step - loss: 0.0381 - accuracy: 0.9859 - val_loss: 0.0459 - val_accuracy: 0.9937\n",
            "Epoch 20/20\n",
            "320/320 [==============================] - ETA: 0s - loss: 0.0373 - accuracy: 0.9880\n",
            " ROC-AUC - epoch: 20 - score: 0.982723\n",
            "320/320 [==============================] - 22s 70ms/step - loss: 0.0373 - accuracy: 0.9880 - val_loss: 0.0472 - val_accuracy: 0.9935\n",
            "Predicting....\n",
            "150/150 [==============================] - 7s 48ms/step\n"
          ],
          "name": "stdout"
        }
      ]
    },
    {
      "cell_type": "code",
      "metadata": {
        "id": "C0sVdKj9DKEt",
        "outputId": "e3b8014e-4089-429a-ac56-a3367cffef23",
        "colab": {
          "base_uri": "https://localhost:8080/",
          "height": 295
        }
      },
      "source": [
        "plot_graphs(hist_adam, 'accuracy','Adam')"
      ],
      "execution_count": null,
      "outputs": [
        {
          "output_type": "display_data",
          "data": {
            "image/png": "[encoded data removed]",
            "text/plain": [
              "<Figure size 432x288 with 1 Axes>"
            ]
          },
          "metadata": {
            "tags": [],
            "needs_background": "light"
          }
        }
      ]
    },
    {
      "cell_type": "code",
      "metadata": {
        "id": "iO5V9WQvGAJ5",
        "outputId": "fb09ee79-40a9-49bd-b921-aeea53514881",
        "colab": {
          "base_uri": "https://localhost:8080/",
          "height": 295
        }
      },
      "source": [
        "plot_graphs(hist_adam, 'loss','Adam')"
      ],
      "execution_count": null,
      "outputs": [
        {
          "output_type": "display_data",
          "data": {
            "image/png": "[encoded data removed]",
            "text/plain": [
              "<Figure size 432x288 with 1 Axes>"
            ]
          },
          "metadata": {
            "tags": [],
            "needs_background": "light"
          }
        }
      ]
    },
    {
      "cell_type": "code",
      "metadata": {
        "id": "6hoRAAaFIp9z"
      },
      "source": [
        "submission = pd.read_csv('/content/submission_gru.csv')\n",
        "submission[[\"toxic\", \"severe_toxic\", \"obscene\", \"threat\", \"insult\", \"identity_hate\"]] = y_pred_Adam\n",
        "submission.to_csv('lstm_glove6b_adam.csv', index=False)"
      ],
      "execution_count": null,
      "outputs": []
    },
    {
      "cell_type": "markdown",
      "metadata": {
        "id": "lgFEgaQi5y0u"
      },
      "source": [
        "SGD"
      ]
    },
    {
      "cell_type": "code",
      "metadata": {
        "id": "S8l-dGth53iD",
        "outputId": "10b5542d-ea29-47d0-9321-987e2eef4b2a",
        "colab": {
          "base_uri": "https://localhost:8080/",
          "height": 1000
        }
      },
      "source": [
        "opt = SGD(lr=0.01, momentum=0.9, decay=0.0001)\n",
        "model.compile(loss='binary_crossentropy',optimizer=opt, metrics=['accuracy'])\n",
        "\n",
        "hist_sgd = model.fit(X_tra, y_tra, batch_size=400, epochs=20, validation_data=(X_val, y_val),callbacks = callbacks_list,verbose=1)\n",
        "print('Predicting....')\n",
        "y_pred_SGD = model.predict(data_test,batch_size=1024,verbose=1)"
      ],
      "execution_count": null,
      "outputs": [
        {
          "output_type": "stream",
          "text": [
            "Epoch 1/20\n",
            "320/320 [==============================] - ETA: 0s - loss: 0.0835 - accuracy: 0.9722\n",
            " ROC-AUC - epoch: 1 - score: 0.949279\n",
            "320/320 [==============================] - 24s 74ms/step - loss: 0.0835 - accuracy: 0.9722 - val_loss: 0.0732 - val_accuracy: 0.9938\n",
            "Epoch 2/20\n",
            "319/320 [============================>.] - ETA: 0s - loss: 0.0760 - accuracy: 0.9791\n",
            " ROC-AUC - epoch: 2 - score: 0.955468\n",
            "320/320 [==============================] - 23s 72ms/step - loss: 0.0760 - accuracy: 0.9791 - val_loss: 0.0679 - val_accuracy: 0.9938\n",
            "Epoch 3/20\n",
            "320/320 [==============================] - ETA: 0s - loss: 0.0716 - accuracy: 0.9849\n",
            " ROC-AUC - epoch: 3 - score: 0.958279\n",
            "320/320 [==============================] - 23s 71ms/step - loss: 0.0716 - accuracy: 0.9849 - val_loss: 0.0659 - val_accuracy: 0.9938\n",
            "Epoch 4/20\n",
            "320/320 [==============================] - ETA: 0s - loss: 0.0694 - accuracy: 0.9888\n",
            " ROC-AUC - epoch: 4 - score: 0.960041\n",
            "320/320 [==============================] - 23s 72ms/step - loss: 0.0694 - accuracy: 0.9888 - val_loss: 0.0632 - val_accuracy: 0.9938\n",
            "Epoch 5/20\n",
            "320/320 [==============================] - ETA: 0s - loss: 0.0672 - accuracy: 0.9912\n",
            " ROC-AUC - epoch: 5 - score: 0.961459\n",
            "320/320 [==============================] - 23s 71ms/step - loss: 0.0672 - accuracy: 0.9912 - val_loss: 0.0617 - val_accuracy: 0.9938\n",
            "Epoch 6/20\n",
            "320/320 [==============================] - ETA: 0s - loss: 0.0660 - accuracy: 0.9918\n",
            " ROC-AUC - epoch: 6 - score: 0.962472\n",
            "320/320 [==============================] - 23s 72ms/step - loss: 0.0660 - accuracy: 0.9918 - val_loss: 0.0634 - val_accuracy: 0.9938\n",
            "Epoch 7/20\n",
            "319/320 [============================>.] - ETA: 0s - loss: 0.0647 - accuracy: 0.9924\n",
            " ROC-AUC - epoch: 7 - score: 0.963521\n",
            "320/320 [==============================] - 23s 71ms/step - loss: 0.0647 - accuracy: 0.9924 - val_loss: 0.0597 - val_accuracy: 0.9938\n",
            "Epoch 8/20\n",
            "319/320 [============================>.] - ETA: 0s - loss: 0.0633 - accuracy: 0.9931\n",
            " ROC-AUC - epoch: 8 - score: 0.963942\n",
            "320/320 [==============================] - 23s 72ms/step - loss: 0.0633 - accuracy: 0.9931 - val_loss: 0.0593 - val_accuracy: 0.9938\n",
            "Epoch 9/20\n",
            "319/320 [============================>.] - ETA: 0s - loss: 0.0627 - accuracy: 0.9931\n",
            " ROC-AUC - epoch: 9 - score: 0.964347\n",
            "320/320 [==============================] - 23s 72ms/step - loss: 0.0627 - accuracy: 0.9931 - val_loss: 0.0585 - val_accuracy: 0.9938\n",
            "Epoch 10/20\n",
            "319/320 [============================>.] - ETA: 0s - loss: 0.0622 - accuracy: 0.9931\n",
            " ROC-AUC - epoch: 10 - score: 0.964986\n",
            "320/320 [==============================] - 23s 72ms/step - loss: 0.0622 - accuracy: 0.9931 - val_loss: 0.0582 - val_accuracy: 0.9938\n",
            "Epoch 11/20\n",
            "319/320 [============================>.] - ETA: 0s - loss: 0.0615 - accuracy: 0.9935\n",
            " ROC-AUC - epoch: 11 - score: 0.965063\n",
            "320/320 [==============================] - 23s 72ms/step - loss: 0.0615 - accuracy: 0.9935 - val_loss: 0.0579 - val_accuracy: 0.9938\n",
            "Epoch 12/20\n",
            "320/320 [==============================] - ETA: 0s - loss: 0.0613 - accuracy: 0.9935\n",
            " ROC-AUC - epoch: 12 - score: 0.965447\n",
            "320/320 [==============================] - 23s 73ms/step - loss: 0.0613 - accuracy: 0.9935 - val_loss: 0.0577 - val_accuracy: 0.9938\n",
            "Epoch 13/20\n",
            "320/320 [==============================] - ETA: 0s - loss: 0.0610 - accuracy: 0.9937\n",
            " ROC-AUC - epoch: 13 - score: 0.965710\n",
            "320/320 [==============================] - 23s 72ms/step - loss: 0.0610 - accuracy: 0.9937 - val_loss: 0.0571 - val_accuracy: 0.9938\n",
            "Epoch 14/20\n",
            "319/320 [============================>.] - ETA: 0s - loss: 0.0601 - accuracy: 0.9935\n",
            " ROC-AUC - epoch: 14 - score: 0.965898\n",
            "320/320 [==============================] - 23s 72ms/step - loss: 0.0601 - accuracy: 0.9935 - val_loss: 0.0578 - val_accuracy: 0.9938\n",
            "Epoch 15/20\n",
            "319/320 [============================>.] - ETA: 0s - loss: 0.0602 - accuracy: 0.9937\n",
            " ROC-AUC - epoch: 15 - score: 0.966238\n",
            "320/320 [==============================] - 23s 72ms/step - loss: 0.0602 - accuracy: 0.9937 - val_loss: 0.0567 - val_accuracy: 0.9938\n",
            "Epoch 16/20\n",
            "320/320 [==============================] - ETA: 0s - loss: 0.0597 - accuracy: 0.9937\n",
            " ROC-AUC - epoch: 16 - score: 0.965880\n",
            "320/320 [==============================] - 23s 72ms/step - loss: 0.0597 - accuracy: 0.9937 - val_loss: 0.0574 - val_accuracy: 0.9938\n",
            "Epoch 17/20\n",
            "319/320 [============================>.] - ETA: 0s - loss: 0.0594 - accuracy: 0.9938\n",
            " ROC-AUC - epoch: 17 - score: 0.966695\n",
            "320/320 [==============================] - 23s 72ms/step - loss: 0.0594 - accuracy: 0.9938 - val_loss: 0.0566 - val_accuracy: 0.9938\n",
            "Epoch 18/20\n",
            "319/320 [============================>.] - ETA: 0s - loss: 0.0590 - accuracy: 0.9939\n",
            " ROC-AUC - epoch: 18 - score: 0.966738\n",
            "320/320 [==============================] - 23s 72ms/step - loss: 0.0590 - accuracy: 0.9939 - val_loss: 0.0574 - val_accuracy: 0.9938\n",
            "Epoch 19/20\n",
            "319/320 [============================>.] - ETA: 0s - loss: 0.0593 - accuracy: 0.9938\n",
            " ROC-AUC - epoch: 19 - score: 0.967132\n",
            "320/320 [==============================] - 23s 72ms/step - loss: 0.0593 - accuracy: 0.9938 - val_loss: 0.0559 - val_accuracy: 0.9938\n",
            "Epoch 20/20\n",
            "320/320 [==============================] - ETA: 0s - loss: 0.0586 - accuracy: 0.9939\n",
            " ROC-AUC - epoch: 20 - score: 0.966897\n",
            "320/320 [==============================] - 23s 72ms/step - loss: 0.0586 - accuracy: 0.9939 - val_loss: 0.0562 - val_accuracy: 0.9938\n",
            "Predicting....\n",
            "150/150 [==============================] - 7s 48ms/step\n"
          ],
          "name": "stdout"
        }
      ]
    },
    {
      "cell_type": "code",
      "metadata": {
        "id": "IY0TEfa355yD",
        "outputId": "ca393261-ec70-48cb-f2e8-57ab1327ae6e",
        "colab": {
          "base_uri": "https://localhost:8080/",
          "height": 295
        }
      },
      "source": [
        "plot_graphs(hist_sgd, 'accuracy','SGD')"
      ],
      "execution_count": null,
      "outputs": [
        {
          "output_type": "display_data",
          "data": {
            "image/png": "[encoded data removed]",
            "text/plain": [
              "<Figure size 432x288 with 1 Axes>"
            ]
          },
          "metadata": {
            "tags": [],
            "needs_background": "light"
          }
        }
      ]
    },
    {
      "cell_type": "code",
      "metadata": {
        "id": "eesv18d4Dexs",
        "outputId": "5958e954-7c1a-4e84-d32f-c52614302edd",
        "colab": {
          "base_uri": "https://localhost:8080/",
          "height": 295
        }
      },
      "source": [
        "plot_graphs(hist_sgd, 'loss','SGD')"
      ],
      "execution_count": null,
      "outputs": [
        {
          "output_type": "display_data",
          "data": {
            "image/png": "[encoded data removed]",
            "text/plain": [
              "<Figure size 432x288 with 1 Axes>"
            ]
          },
          "metadata": {
            "tags": [],
            "needs_background": "light"
          }
        }
      ]
    },
    {
      "cell_type": "code",
      "metadata": {
        "id": "Lk7X7HYeNUX0"
      },
      "source": [
        "submission = pd.read_csv('/content/submission_gru.csv')\n",
        "submission[[\"toxic\", \"severe_toxic\", \"obscene\", \"threat\", \"insult\", \"identity_hate\"]] = y_pred_SGD\n",
        "submission.to_csv('lstm_glove6b_sgd.csv', index=False)"
      ],
      "execution_count": null,
      "outputs": []
    },
    {
      "cell_type": "code",
      "metadata": {
        "id": "ZXDr8spW58Ke",
        "outputId": "825b6c3b-6664-4170-924f-c52d8e500919",
        "colab": {
          "base_uri": "https://localhost:8080/",
          "height": 1000
        }
      },
      "source": [
        "opt = Adadelta()\n",
        "model.compile(loss='binary_crossentropy',optimizer=opt, metrics=['accuracy'])\n",
        "\n",
        "hist_ada = model.fit(X_tra, y_tra, batch_size=400, epochs=20, validation_data=(X_val, y_val),callbacks = callbacks_list,verbose=1)\n",
        "print('Predicting....')\n",
        "y_pred_Ada = model.predict(data_test,batch_size=1024,verbose=1)"
      ],
      "execution_count": null,
      "outputs": [
        {
          "output_type": "stream",
          "text": [
            "Epoch 1/20\n",
            "319/320 [============================>.] - ETA: 0s - loss: 0.0342 - accuracy: 0.9883\n",
            " ROC-AUC - epoch: 1 - score: 0.982448\n",
            "320/320 [==============================] - 23s 72ms/step - loss: 0.0342 - accuracy: 0.9883 - val_loss: 0.0471 - val_accuracy: 0.9933\n",
            "Epoch 2/20\n",
            "319/320 [============================>.] - ETA: 0s - loss: 0.0341 - accuracy: 0.9881\n",
            " ROC-AUC - epoch: 2 - score: 0.982451\n",
            "320/320 [==============================] - 22s 70ms/step - loss: 0.0341 - accuracy: 0.9881 - val_loss: 0.0471 - val_accuracy: 0.9933\n",
            "Epoch 3/20\n",
            "319/320 [============================>.] - ETA: 0s - loss: 0.0342 - accuracy: 0.9880\n",
            " ROC-AUC - epoch: 3 - score: 0.982446\n",
            "320/320 [==============================] - 23s 71ms/step - loss: 0.0342 - accuracy: 0.9880 - val_loss: 0.0472 - val_accuracy: 0.9933\n",
            "Epoch 4/20\n",
            "319/320 [============================>.] - ETA: 0s - loss: 0.0344 - accuracy: 0.9878\n",
            " ROC-AUC - epoch: 4 - score: 0.982447\n",
            "320/320 [==============================] - 22s 70ms/step - loss: 0.0343 - accuracy: 0.9878 - val_loss: 0.0472 - val_accuracy: 0.9933\n",
            "Epoch 5/20\n",
            "319/320 [============================>.] - ETA: 0s - loss: 0.0340 - accuracy: 0.9878\n",
            " ROC-AUC - epoch: 5 - score: 0.982449\n",
            "320/320 [==============================] - 22s 70ms/step - loss: 0.0340 - accuracy: 0.9878 - val_loss: 0.0472 - val_accuracy: 0.9933\n",
            "Epoch 6/20\n",
            "320/320 [==============================] - ETA: 0s - loss: 0.0341 - accuracy: 0.9880\n",
            " ROC-AUC - epoch: 6 - score: 0.982453\n",
            "320/320 [==============================] - 23s 70ms/step - loss: 0.0341 - accuracy: 0.9880 - val_loss: 0.0472 - val_accuracy: 0.9933\n",
            "Epoch 7/20\n",
            "320/320 [==============================] - ETA: 0s - loss: 0.0340 - accuracy: 0.9879\n",
            " ROC-AUC - epoch: 7 - score: 0.982451\n",
            "320/320 [==============================] - 22s 70ms/step - loss: 0.0340 - accuracy: 0.9879 - val_loss: 0.0472 - val_accuracy: 0.9933\n",
            "Epoch 8/20\n",
            "319/320 [============================>.] - ETA: 0s - loss: 0.0341 - accuracy: 0.9880\n",
            " ROC-AUC - epoch: 8 - score: 0.982450\n",
            "320/320 [==============================] - 22s 70ms/step - loss: 0.0341 - accuracy: 0.9880 - val_loss: 0.0472 - val_accuracy: 0.9933\n",
            "Epoch 9/20\n",
            "320/320 [==============================] - ETA: 0s - loss: 0.0342 - accuracy: 0.9877\n",
            " ROC-AUC - epoch: 9 - score: 0.982453\n",
            "320/320 [==============================] - 22s 70ms/step - loss: 0.0342 - accuracy: 0.9877 - val_loss: 0.0472 - val_accuracy: 0.9933\n",
            "Epoch 10/20\n",
            "319/320 [============================>.] - ETA: 0s - loss: 0.0341 - accuracy: 0.9881\n",
            " ROC-AUC - epoch: 10 - score: 0.982454\n",
            "320/320 [==============================] - 22s 70ms/step - loss: 0.0341 - accuracy: 0.9881 - val_loss: 0.0472 - val_accuracy: 0.9933\n",
            "Epoch 11/20\n",
            "319/320 [============================>.] - ETA: 0s - loss: 0.0341 - accuracy: 0.9882\n",
            " ROC-AUC - epoch: 11 - score: 0.982451\n",
            "320/320 [==============================] - 22s 70ms/step - loss: 0.0341 - accuracy: 0.9882 - val_loss: 0.0472 - val_accuracy: 0.9933\n",
            "Epoch 12/20\n",
            "319/320 [============================>.] - ETA: 0s - loss: 0.0341 - accuracy: 0.9879\n",
            " ROC-AUC - epoch: 12 - score: 0.982449\n",
            "320/320 [==============================] - 22s 70ms/step - loss: 0.0341 - accuracy: 0.9879 - val_loss: 0.0472 - val_accuracy: 0.9933\n",
            "Epoch 13/20\n",
            "319/320 [============================>.] - ETA: 0s - loss: 0.0342 - accuracy: 0.9877\n",
            " ROC-AUC - epoch: 13 - score: 0.982455\n",
            "320/320 [==============================] - 22s 70ms/step - loss: 0.0342 - accuracy: 0.9877 - val_loss: 0.0472 - val_accuracy: 0.9933\n",
            "Epoch 14/20\n",
            "320/320 [==============================] - ETA: 0s - loss: 0.0341 - accuracy: 0.9874\n",
            " ROC-AUC - epoch: 14 - score: 0.982450\n",
            "320/320 [==============================] - 22s 70ms/step - loss: 0.0341 - accuracy: 0.9874 - val_loss: 0.0472 - val_accuracy: 0.9933\n",
            "Epoch 15/20\n",
            "320/320 [==============================] - ETA: 0s - loss: 0.0341 - accuracy: 0.9879\n",
            " ROC-AUC - epoch: 15 - score: 0.982447\n",
            "320/320 [==============================] - 22s 70ms/step - loss: 0.0341 - accuracy: 0.9879 - val_loss: 0.0472 - val_accuracy: 0.9933\n",
            "Epoch 16/20\n",
            "319/320 [============================>.] - ETA: 0s - loss: 0.0341 - accuracy: 0.9877\n",
            " ROC-AUC - epoch: 16 - score: 0.982449\n",
            "320/320 [==============================] - 22s 70ms/step - loss: 0.0341 - accuracy: 0.9877 - val_loss: 0.0472 - val_accuracy: 0.9933\n",
            "Epoch 17/20\n",
            "320/320 [==============================] - ETA: 0s - loss: 0.0341 - accuracy: 0.9883\n",
            " ROC-AUC - epoch: 17 - score: 0.982447\n",
            "320/320 [==============================] - 23s 71ms/step - loss: 0.0341 - accuracy: 0.9883 - val_loss: 0.0472 - val_accuracy: 0.9933\n",
            "Epoch 18/20\n",
            "320/320 [==============================] - ETA: 0s - loss: 0.0344 - accuracy: 0.9878\n",
            " ROC-AUC - epoch: 18 - score: 0.982447\n",
            "320/320 [==============================] - 23s 70ms/step - loss: 0.0344 - accuracy: 0.9878 - val_loss: 0.0472 - val_accuracy: 0.9933\n",
            "Epoch 19/20\n",
            "320/320 [==============================] - ETA: 0s - loss: 0.0343 - accuracy: 0.9879\n",
            " ROC-AUC - epoch: 19 - score: 0.982447\n",
            "320/320 [==============================] - 23s 71ms/step - loss: 0.0343 - accuracy: 0.9879 - val_loss: 0.0472 - val_accuracy: 0.9933\n",
            "Epoch 20/20\n",
            "319/320 [============================>.] - ETA: 0s - loss: 0.0340 - accuracy: 0.9880\n",
            " ROC-AUC - epoch: 20 - score: 0.982443\n",
            "320/320 [==============================] - 23s 71ms/step - loss: 0.0340 - accuracy: 0.9880 - val_loss: 0.0472 - val_accuracy: 0.9933\n",
            "Predicting....\n",
            "150/150 [==============================] - 7s 48ms/step\n"
          ],
          "name": "stdout"
        }
      ]
    },
    {
      "cell_type": "code",
      "metadata": {
        "id": "3AQztRJk5-9e",
        "outputId": "bb6d9856-ca24-4d3f-8c12-cd4bf33d1dec",
        "colab": {
          "base_uri": "https://localhost:8080/",
          "height": 295
        }
      },
      "source": [
        "plot_graphs(hist_ada, 'accuracy','Adadelta')"
      ],
      "execution_count": null,
      "outputs": [
        {
          "output_type": "display_data",
          "data": {
            "image/png": "[encoded data removed]",
            "text/plain": [
              "<Figure size 432x288 with 1 Axes>"
            ]
          },
          "metadata": {
            "tags": [],
            "needs_background": "light"
          }
        }
      ]
    },
    {
      "cell_type": "code",
      "metadata": {
        "id": "1ZgYrKliDmFh",
        "outputId": "51f74767-132c-4c18-a691-ae278b9f628f",
        "colab": {
          "base_uri": "https://localhost:8080/",
          "height": 295
        }
      },
      "source": [
        "plot_graphs(hist_ada, 'loss','Adadelta')"
      ],
      "execution_count": null,
      "outputs": [
        {
          "output_type": "display_data",
          "data": {
            "image/png": "[encoded data removed]",
            "text/plain": [
              "<Figure size 432x288 with 1 Axes>"
            ]
          },
          "metadata": {
            "tags": [],
            "needs_background": "light"
          }
        }
      ]
    },
    {
      "cell_type": "code",
      "metadata": {
        "id": "yXFLH1QcOmZS"
      },
      "source": [
        "submission = pd.read_csv('/content/submission_gru.csv')\n",
        "submission[[\"toxic\", \"severe_toxic\", \"obscene\", \"threat\", \"insult\", \"identity_hate\"]] = y_pred_Ada\n",
        "submission.to_csv('lstm_glove6b_adadelta.csv', index=False)"
      ],
      "execution_count": null,
      "outputs": []
    },
    {
      "cell_type": "code",
      "metadata": {
        "id": "hRNqHp8fOxTT"
      },
      "source": [],
      "execution_count": null,
      "outputs": []
    }
  ]
}