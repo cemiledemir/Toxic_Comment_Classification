{
  "nbformat": 4,
  "nbformat_minor": 0,
  "metadata": {
    "colab": {
      "provenance": []
    },
    "kernelspec": {
      "name": "python3",
      "display_name": "Python 3"
    },
    "accelerator": "GPU"
  },
  "cells": [
    {
      "cell_type": "markdown",
      "metadata": {
        "id": "TNS1kwOHxLk2"
      },
      "source": [
        "#Bidirectional Long Short Therm Memory\n",
        "##Word Embedding: GloVe 840B 300d\n",
        "##Optimizers: Adam\n",
        "**Word Embeddings**\n",
        "\n",
        "Words and ngrams have been primarily used as features in text classification. I did vectorized the texts using bag of words based features, now I will rely on neural embedding models. I will use a pre-trained embedding model. There are several pre-trained word2vec models trained on large corpora that one can download from the internet. GloVe(Global Vector) is one of popular pre-trained embedding algorithm from Stanford.\n",
        "\n",
        "The advantage of using embedding based features is that they create a dense, low-dimensional feature representation instead of the sparse, high-dimensional structure of bag of words/TFIDF and other such features.\n",
        "\n",
        "**GloVe Embeddings**\n",
        "\n",
        "GloVe is commonly used method of obtaining pre-trained embeddings. GloVe aims to achieve two goals:\n",
        "\n",
        "Create word vectors that capture meaning in vector space Takes advantage of global count statistics instead of only local information There are a lot of online material available to explain the concept about GloVe. So my focus here will be on, how to use pre-trained Glove word embeddings. I will provide relevant resources to look into more details.\n",
        "\n",
        "**Download the pre-trained glove file:** I will be using glove.6B file which is trained on Common Crawl (840B tokens, 2.2M vocab, cased, 300d vectors, 2.03 GB download)"
      ]
    },
    {
      "cell_type": "code",
      "metadata": {
        "id": "r41amvSnD3sj",
        "outputId": "17578b78-8dac-4a5e-b5de-2e7de7b5ba0b",
        "colab": {
          "base_uri": "https://localhost:8080/",
          "height": 352
        }
      },
      "source": [
        "!wget http://nlp.stanford.edu/data/glove.840B.300d.zip"
      ],
      "execution_count": null,
      "outputs": [
        {
          "output_type": "stream",
          "text": [
            "--2020-10-08 19:12:26--  http://nlp.stanford.edu/data/glove.840B.300d.zip\n",
            "Resolving nlp.stanford.edu (nlp.stanford.edu)... 171.64.67.140\n",
            "Connecting to nlp.stanford.edu (nlp.stanford.edu)|171.64.67.140|:80... connected.\n",
            "HTTP request sent, awaiting response... 302 Found\n",
            "Location: https://nlp.stanford.edu/data/glove.840B.300d.zip [following]\n",
            "--2020-10-08 19:12:26--  https://nlp.stanford.edu/data/glove.840B.300d.zip\n",
            "Connecting to nlp.stanford.edu (nlp.stanford.edu)|171.64.67.140|:443... connected.\n",
            "HTTP request sent, awaiting response... 301 Moved Permanently\n",
            "Location: http://downloads.cs.stanford.edu/nlp/data/glove.840B.300d.zip [following]\n",
            "--2020-10-08 19:12:27--  http://downloads.cs.stanford.edu/nlp/data/glove.840B.300d.zip\n",
            "Resolving downloads.cs.stanford.edu (downloads.cs.stanford.edu)... 171.64.64.22\n",
            "Connecting to downloads.cs.stanford.edu (downloads.cs.stanford.edu)|171.64.64.22|:80... connected.\n",
            "HTTP request sent, awaiting response... 200 OK\n",
            "Length: 2176768927 (2.0G) [application/zip]\n",
            "Saving to: ‘glove.840B.300d.zip’\n",
            "\n",
            "glove.840B.300d.zip 100%[===================>]   2.03G  2.15MB/s    in 16m 53s \n",
            "\n",
            "2020-10-08 19:29:20 (2.05 MB/s) - ‘glove.840B.300d.zip’ saved [2176768927/2176768927]\n",
            "\n"
          ],
          "name": "stdout"
        }
      ]
    },
    {
      "cell_type": "code",
      "metadata": {
        "id": "m3HHYJUQEGaf"
      },
      "source": [
        "!unzip -q ./glove.840B.300d.zip"
      ],
      "execution_count": null,
      "outputs": []
    },
    {
      "cell_type": "code",
      "metadata": {
        "id": "nVqbJLGwEN9t"
      },
      "source": [
        "import pandas as pd\n",
        "import numpy as np\n",
        "import re\n",
        "\n",
        "import matplotlib.pyplot as plt\n",
        "\n",
        "from tensorflow.keras import regularizers, initializers, optimizers, constraints\n",
        "from keras.callbacks import EarlyStopping, ModelCheckpoint, CSVLogger, Callback\n",
        "from tensorflow.keras.preprocessing.sequence import pad_sequences\n",
        "from tensorflow.keras.preprocessing.text import Tokenizer\n",
        "from keras.utils.np_utils import to_categorical\n",
        "from tensorflow.keras.layers import *\n",
        "from tensorflow.keras.models import Model\n",
        "import tensorflow as tf\n",
        "from sklearn.model_selection import train_test_split\n",
        "from keras.optimizers import SGD, RMSprop, Adagrad, Adadelta, Adam, Adamax, Nadam\n",
        "from keras.layers import SpatialDropout1D\n",
        "from keras.layers import concatenate,  Bidirectional\n",
        "from keras.layers.normalization import BatchNormalization\n",
        "from keras import backend as K\n",
        "from keras.engine.topology import Layer\n",
        "\n",
        "import sys\n",
        "\n",
        "\n",
        "from sklearn.metrics import accuracy_score, f1_score, recall_score, precision_score, roc_auc_score, roc_curve\n"
      ],
      "execution_count": null,
      "outputs": []
    },
    {
      "cell_type": "code",
      "metadata": {
        "id": "FCG4oq6TEPye"
      },
      "source": [
        "MAX_NB_WORDS = 100000    # max no. of words for tokenizer\n",
        "MAX_SEQUENCE_LENGTH = 200 # max length of each entry (sentence), including padding\n",
        "VALIDATION_SPLIT = 0.1   # data for validation (not used in training)\n",
        "EMBEDDING_DIM = 300      # embedding dimensions for word vectors (word2vec/GloVe)\n",
        "GLOVE_DIR = \"/content/glove.840B.\"+str(EMBEDDING_DIM)+\"d.txt\""
      ],
      "execution_count": null,
      "outputs": []
    },
    {
      "cell_type": "code",
      "metadata": {
        "id": "4NeTxNpTEe6M"
      },
      "source": [
        "train = pd.read_csv('/content/train.csv')\n",
        "test = pd.read_csv('/content/test.csv')\n",
        "labels = [\"toxic\", \"severe_toxic\", \"obscene\", \"threat\", \"insult\", \"identity_hate\"]"
      ],
      "execution_count": null,
      "outputs": []
    },
    {
      "cell_type": "markdown",
      "metadata": {
        "id": "2WRtBmrPxkt6"
      },
      "source": [
        "**Preprocessing**"
      ]
    },
    {
      "cell_type": "code",
      "metadata": {
        "id": "RghBt4Hqyucw"
      },
      "source": [
        "def cleanData(text):\n",
        "    text = text.lower().split()\n",
        "    text = \" \".join(text)\n",
        "    text = re.sub(r\"[^A-Za-z0-9^,!.\\/'+\\-=]\", \" \", text)\n",
        "    text = re.sub(r\"what's\", \"what is \", text)\n",
        "    text = re.sub(r\"\\'s\", \" \", text)\n",
        "    text = re.sub(r\"\\'ve\", \" have \", text)\n",
        "    text = re.sub(r\"can't\", \"cannot \", text)\n",
        "    text = re.sub(r\"n't\", \" not \", text)\n",
        "    text = re.sub(r\"i'm\", \"i am \", text)\n",
        "    text = re.sub(r\"\\'re\", \" are \", text)\n",
        "    text = re.sub(r\"\\'d\", \" would \", text)\n",
        "    text = re.sub(r\"\\'ll\", \" will \", text)\n",
        "    text = re.sub(r\",\", \" \", text)\n",
        "    text = re.sub(r\"\\.\", \" \", text)\n",
        "    text = re.sub(r\"!\", \" ! \", text)\n",
        "    text = re.sub(r\"\\/\", \" \", text)\n",
        "    text = re.sub(r\"\\^\", \" ^ \", text)\n",
        "    text = re.sub(r\"\\+\", \" + \", text)\n",
        "    text = re.sub(r\"\\-\", \" - \", text)\n",
        "    text = re.sub(r\"\\=\", \" = \", text)\n",
        "    text = re.sub(r\"'\", \" \", text)\n",
        "    text = re.sub(r\"(\\d+)(k)\", r\"\\g<1>000\", text)\n",
        "    text = re.sub(r\":\", \" : \", text)\n",
        "    text = re.sub(r\" e g \", \" eg \", text)\n",
        "    text = re.sub(r\" b g \", \" bg \", text)\n",
        "    text = re.sub(r\" u s \", \" american \", text)\n",
        "    text = re.sub(r\"\\0s\", \"0\", text)\n",
        "    text = re.sub(r\" 9 11 \", \"911\", text)\n",
        "    text = re.sub(r\"e - mail\", \"email\", text)\n",
        "    text = re.sub(r\"j k\", \"jk\", text)\n",
        "    text = re.sub(r\"\\s{2,}\", \" \", text)\n",
        "\n",
        "    return text\n",
        "\n",
        "special_character_removal=re.compile(r'[^a-z\\d ]',re.IGNORECASE)\n",
        "replace_numbers=re.compile(r'\\d+',re.IGNORECASE)\n",
        "\n",
        "def text_to_wordlist(text):\n",
        "    text = text.lower().split()\n",
        "\n",
        "\n",
        "    text = \" \".join(text)\n",
        "\n",
        "    #Remove Special Characters\n",
        "    text=special_character_removal.sub('',text)\n",
        "    #Replace Numbers\n",
        "    text=replace_numbers.sub('',text)\n",
        "\n",
        "    return(text)"
      ],
      "execution_count": null,
      "outputs": []
    },
    {
      "cell_type": "code",
      "metadata": {
        "id": "5wfFtBvOyxPt",
        "outputId": "8276cd20-f34e-4bfe-ef69-c69c5c97d270",
        "colab": {
          "base_uri": "https://localhost:8080/",
          "height": 68
        }
      },
      "source": [
        "print('Processing text dataset')\n",
        "\n",
        "train['comment_text'] = train['comment_text'].map(lambda x: cleanData(x))\n",
        "test['comment_text'] = test['comment_text'].map(lambda x: cleanData(x))\n",
        "print('Train shape: ', train.shape)\n",
        "print('Test shape: ', test.shape)"
      ],
      "execution_count": null,
      "outputs": [
        {
          "output_type": "stream",
          "text": [
            "Processing text dataset\n",
            "Train shape:  (159571, 8)\n",
            "Test shape:  (153164, 2)\n"
          ],
          "name": "stdout"
        }
      ]
    },
    {
      "cell_type": "code",
      "metadata": {
        "id": "7piIfDqByzrS"
      },
      "source": [
        "list_sentences_train = train[\"comment_text\"].fillna(\"NA\").values\n",
        "y_train = train[labels].values\n",
        "list_sentences_test = test[\"comment_text\"].fillna(\"NA\").values\n",
        "\n",
        "comments = []\n",
        "for text in list_sentences_train:\n",
        "    comments.append(text_to_wordlist(text))\n",
        "\n",
        "test_comments=[]\n",
        "for text in list_sentences_test:\n",
        "    test_comments.append(text_to_wordlist(text))"
      ],
      "execution_count": null,
      "outputs": []
    },
    {
      "cell_type": "code",
      "metadata": {
        "id": "PZg8pwvpy_3W",
        "outputId": "3dad0dd5-68d2-46bf-b108-8573b974462b",
        "colab": {
          "base_uri": "https://localhost:8080/",
          "height": 52
        }
      },
      "source": [
        "train.comment_text[0]"
      ],
      "execution_count": null,
      "outputs": [
        {
          "output_type": "execute_result",
          "data": {
            "application/vnd.google.colaboratory.intrinsic+json": {
              "type": "string"
            },
            "text/plain": [
              "'explanation why the edits made under my username hardcore metallica fan were reverted they were not vandalisms just closure on some gas after i voted at new york dolls fac and please do not remove the template from the talk page since i am retired now 89 205 38 27'"
            ]
          },
          "metadata": {
            "tags": []
          },
          "execution_count": 7
        }
      ]
    },
    {
      "cell_type": "markdown",
      "metadata": {
        "id": "iJOm2FG03OEJ"
      },
      "source": [
        "**Evaluation Metric**\n",
        "\n",
        "To evaluate the model, I'll be looking at its AUC ROC score (area under the receiver operating characteristic curve). I will be looking at the probability that the model ranks a randomly chosen positive instance higher than a randomly chosen negative one. With data that mostly consists of negative labels (no toxicity), our model could just learn to always predict negative and end up with a pretty high accuracy. AUC ROC helps correct this by putting more weight on the the positive examples.\n"
      ]
    },
    {
      "cell_type": "code",
      "metadata": {
        "id": "42qll-usEv5Q"
      },
      "source": [
        "class RocAucEvaluation(Callback):\n",
        "    def __init__(self, validation_data=(), interval=1):\n",
        "        super(Callback, self).__init__()\n",
        "\n",
        "        self.interval = interval\n",
        "        self.X_val, self.y_val = validation_data\n",
        "\n",
        "    def on_epoch_end(self, epoch, logs={}):\n",
        "        if epoch % self.interval == 0:\n",
        "            y_pred = self.model.predict(self.X_val, verbose=0)\n",
        "            score = roc_auc_score(self.y_val, y_pred)\n",
        "            print(\"\\n ROC-AUC - epoch: {:d} - score: {:.6f}\".format(epoch+1, score))"
      ],
      "execution_count": null,
      "outputs": []
    },
    {
      "cell_type": "code",
      "metadata": {
        "id": "fMyodXvKEyjF"
      },
      "source": [
        "def plot_graphs(history, metric, optimizer):\n",
        "    plt.plot(history.history[metric])\n",
        "    plt.plot(history.history['val_'+metric], '')\n",
        "    plt.title(optimizer)\n",
        "    plt.xlabel(\"Epochs\")\n",
        "    plt.ylabel(metric)\n",
        "    plt.legend([metric, 'val_'+metric])\n",
        "    plt.show()"
      ],
      "execution_count": null,
      "outputs": []
    },
    {
      "cell_type": "markdown",
      "metadata": {
        "id": "yigC1r2RxxOy"
      },
      "source": [
        "**Tokenizing**\n",
        "\n",
        "When dealing with text, it is typical to assign a unique integer id to each word in the corpus. This makes it simpler to represent the data as we feed it into a model.\n",
        "\n",
        "Because this is such a common operation, Keras has built-in support for it. We need to fit the tokenizer object on our corpus so that it can assign a unique id to each word. We also initialize the tokenizer with a num_words parameter so that it knows how many of the top frequency words to take into account.\n",
        "\n",
        "**Padding**\n",
        "\n",
        "Our model would expect each input row to be of the same dimension. This means once we decide on what the chosen input comment size is, we need to chop off some part of the input comments that are too long. We would also, need to pad the comments which are shorter.\n",
        "\n",
        "Keras has built in support for this using the pad_sequences method."
      ]
    },
    {
      "cell_type": "code",
      "metadata": {
        "id": "nQyyAqKtE4c5",
        "outputId": "dcfc7d56-b54b-479a-c70f-2abf5226bb78",
        "colab": {
          "base_uri": "https://localhost:8080/",
          "height": 34
        }
      },
      "source": [
        "tokenizer = Tokenizer(num_words=MAX_NB_WORDS) # define Tokenize text function\n",
        "tokenizer.fit_on_texts(comments)#fit the function on the text\n",
        "sequences = tokenizer.texts_to_sequences(comments)# convert  to sequence\n",
        "test_sequences = tokenizer.texts_to_sequences(test_comments)\n",
        "word_index = tokenizer.word_index #num of unique tokens\n",
        "print('Vocabulary size:', len(word_index))"
      ],
      "execution_count": null,
      "outputs": [
        {
          "output_type": "stream",
          "text": [
            "Vocabulary size: 169740\n"
          ],
          "name": "stdout"
        }
      ]
    },
    {
      "cell_type": "code",
      "metadata": {
        "id": "ztVt0WBfz2KQ"
      },
      "source": [
        "#Limit size  to 200 and pad the sequence\n",
        "data = pad_sequences(sequences, padding = 'post',truncating='post', maxlen = MAX_SEQUENCE_LENGTH)\n",
        "data_test = pad_sequences(test_sequences, padding = 'post',truncating='post', maxlen = MAX_SEQUENCE_LENGTH)"
      ],
      "execution_count": null,
      "outputs": []
    },
    {
      "cell_type": "code",
      "metadata": {
        "id": "nQZNm4pAz5jo",
        "outputId": "82be16bb-a693-4e64-e326-299cfa8e463e",
        "colab": {
          "base_uri": "https://localhost:8080/",
          "height": 68
        }
      },
      "source": [
        "embeddings_index = {}\n",
        "f = open(GLOVE_DIR)\n",
        "print('Loading GloVe from:', GLOVE_DIR,'...', end='')\n",
        "\n",
        "for line in f:\n",
        "    values = line.rstrip().rsplit(' ')\n",
        "    word = values[0]\n",
        "    embeddings_index[word] = np.asarray(values[1:], dtype='float32')\n",
        "f.close()\n",
        "print(\"Done.\\n Proceeding with Embedding Matrix...\")\n",
        "print(f'Found {len(embeddings_index)} word vectors', end=\"\")\n",
        "\n",
        "nb_words = min(MAX_NB_WORDS, len(word_index))\n",
        "embedding_matrix = np.zeros((nb_words, EMBEDDING_DIM))\n",
        "for word, i in word_index.items():\n",
        "    if i >= MAX_NB_WORDS:\n",
        "        continue\n",
        "    embedding_vector = embeddings_index.get(word)\n",
        "    if embedding_vector is not None:\n",
        "        embedding_matrix[i] = embedding_vector\n",
        "print(\" Completed!\")"
      ],
      "execution_count": null,
      "outputs": [
        {
          "output_type": "stream",
          "text": [
            "Loading GloVe from: /content/glove.840B.300d.txt ...Done.\n",
            " Proceeding with Embedding Matrix...\n",
            "Found 2196016 word vectors Completed!\n"
          ],
          "name": "stdout"
        }
      ]
    },
    {
      "cell_type": "code",
      "metadata": {
        "id": "kUWo49F70Bk_"
      },
      "source": [
        "del(train)\n",
        "del(test)"
      ],
      "execution_count": null,
      "outputs": []
    },
    {
      "cell_type": "markdown",
      "metadata": {
        "id": "8LtoxYMW4Fqj"
      },
      "source": [
        "**Model definition**\n",
        "\n",
        "\n",
        "This is  multi-label classification problem. This means, for each input instance, multiple output classes could be possible at the same time. A comment could be both \"toxic\" and \"obscene\" at the same time.\n",
        "\n",
        "Few things to keep in mind:\n",
        "\n",
        "We can arrange for the output size of our final fully-connected layer to be same as the number of output classes we are trying to predict.\n",
        "We should use the \"sigmoid\" activation instead of \"softmax\" activation we use in a classification problem. This is because in case of sigmoid, the value for each class is independent of the others, while this is not the case for softmax.\n",
        "We should use \"binary-crossentropy\" as the loss instead of \"categorical_crossentropy\" we typically use in a classification problem."
      ]
    },
    {
      "cell_type": "code",
      "metadata": {
        "id": "iTVMlDNoFf4G",
        "outputId": "f12d887c-1877-4f19-e360-6b66ec1f0e78",
        "colab": {
          "base_uri": "https://localhost:8080/",
          "height": 391
        }
      },
      "source": [
        "sequence_input = Input(shape=(MAX_SEQUENCE_LENGTH,), dtype='int32')\n",
        "\n",
        "x = Embedding(nb_words,\n",
        "              EMBEDDING_DIM,\n",
        "              weights = [embedding_matrix],\n",
        "              input_length = MAX_SEQUENCE_LENGTH,\n",
        "              trainable=True)\n",
        "embedded_sequences = x(sequence_input)\n",
        "x = Bidirectional(LSTM(200,return_sequences=True))(embedded_sequences)\n",
        "x = GlobalMaxPool1D()(x)\n",
        "\n",
        "x = Dense(75, activation=\"relu\")(x)\n",
        "x = Dropout(0.1)(x)\n",
        "preds = Dense(6, activation=\"sigmoid\")(x)\n",
        "\n",
        "model = Model(inputs=[sequence_input], outputs=preds)\n",
        "model.compile(loss='binary_crossentropy', optimizer='adam', metrics=['accuracy'])\n",
        "model.summary()"
      ],
      "execution_count": null,
      "outputs": [
        {
          "output_type": "stream",
          "text": [
            "Model: \"functional_1\"\n",
            "_________________________________________________________________\n",
            "Layer (type)                 Output Shape              Param #   \n",
            "=================================================================\n",
            "input_2 (InputLayer)         [(None, 200)]             0         \n",
            "_________________________________________________________________\n",
            "embedding_1 (Embedding)      (None, 200, 300)          30000000  \n",
            "_________________________________________________________________\n",
            "bidirectional (Bidirectional (None, 200, 400)          801600    \n",
            "_________________________________________________________________\n",
            "global_max_pooling1d (Global (None, 400)               0         \n",
            "_________________________________________________________________\n",
            "dense (Dense)                (None, 75)                30075     \n",
            "_________________________________________________________________\n",
            "dropout (Dropout)            (None, 75)                0         \n",
            "_________________________________________________________________\n",
            "dense_1 (Dense)              (None, 6)                 456       \n",
            "=================================================================\n",
            "Total params: 30,832,131\n",
            "Trainable params: 30,832,131\n",
            "Non-trainable params: 0\n",
            "_________________________________________________________________\n"
          ],
          "name": "stdout"
        }
      ]
    },
    {
      "cell_type": "code",
      "metadata": {
        "id": "2B_WH2Pm1p9X"
      },
      "source": [
        "X_tra, X_val, y_tra, y_val = train_test_split(data, y_train, train_size=0.8, random_state=233)"
      ],
      "execution_count": null,
      "outputs": []
    },
    {
      "cell_type": "code",
      "metadata": {
        "id": "Z5Jkn11E2CBH"
      },
      "source": [
        "model.compile(loss = 'binary_crossentropy',\n",
        "              optimizer='adam',\n",
        "              metrics=['accuracy'])"
      ],
      "execution_count": null,
      "outputs": []
    },
    {
      "cell_type": "code",
      "metadata": {
        "id": "mVbo4qdf19Ln"
      },
      "source": [
        "ra_val = RocAucEvaluation(validation_data=(X_val, y_val), interval = 1)\n",
        "callbacks_list = [ra_val]"
      ],
      "execution_count": null,
      "outputs": []
    },
    {
      "cell_type": "code",
      "metadata": {
        "id": "LMXVNbzKpTAF",
        "outputId": "a4048a38-8a14-4beb-9766-5447063d09c1",
        "colab": {
          "base_uri": "https://localhost:8080/",
          "height": 1000
        }
      },
      "source": [
        "hist_adam = model.fit(X_tra, y_tra, batch_size=400, epochs=20, validation_data=(X_val, y_val),callbacks = callbacks_list,verbose=1)\n",
        "print('Predicting....')\n",
        "y_pred_Adam_pre = model.predict(data_test,batch_size=1024,verbose=1)"
      ],
      "execution_count": null,
      "outputs": [
        {
          "output_type": "stream",
          "text": [
            "Epoch 1/20\n",
            "320/320 [==============================] - ETA: 0s - loss: 0.1031 - accuracy: 0.7871\n",
            " ROC-AUC - epoch: 1 - score: 0.972991\n",
            "320/320 [==============================] - 21s 66ms/step - loss: 0.1031 - accuracy: 0.7871 - val_loss: 0.0511 - val_accuracy: 0.9938\n",
            "Epoch 2/20\n",
            "319/320 [============================>.] - ETA: 0s - loss: 0.0529 - accuracy: 0.9445\n",
            " ROC-AUC - epoch: 2 - score: 0.977311\n",
            "320/320 [==============================] - 20s 64ms/step - loss: 0.0529 - accuracy: 0.9445 - val_loss: 0.0490 - val_accuracy: 0.9938\n",
            "Epoch 3/20\n",
            "320/320 [==============================] - ETA: 0s - loss: 0.0489 - accuracy: 0.9613\n",
            " ROC-AUC - epoch: 3 - score: 0.980194\n",
            "320/320 [==============================] - 20s 63ms/step - loss: 0.0489 - accuracy: 0.9613 - val_loss: 0.0457 - val_accuracy: 0.9938\n",
            "Epoch 4/20\n",
            "319/320 [============================>.] - ETA: 0s - loss: 0.0465 - accuracy: 0.9605\n",
            " ROC-AUC - epoch: 4 - score: 0.981666\n",
            "320/320 [==============================] - 20s 64ms/step - loss: 0.0465 - accuracy: 0.9606 - val_loss: 0.0447 - val_accuracy: 0.9938\n",
            "Epoch 5/20\n",
            "319/320 [============================>.] - ETA: 0s - loss: 0.0445 - accuracy: 0.9616\n",
            " ROC-AUC - epoch: 5 - score: 0.982906\n",
            "320/320 [==============================] - 21s 64ms/step - loss: 0.0445 - accuracy: 0.9616 - val_loss: 0.0467 - val_accuracy: 0.9938\n",
            "Epoch 6/20\n",
            "319/320 [============================>.] - ETA: 0s - loss: 0.0431 - accuracy: 0.9618\n",
            " ROC-AUC - epoch: 6 - score: 0.984549\n",
            "320/320 [==============================] - 20s 64ms/step - loss: 0.0431 - accuracy: 0.9618 - val_loss: 0.0434 - val_accuracy: 0.9938\n",
            "Epoch 7/20\n",
            "320/320 [==============================] - ETA: 0s - loss: 0.0421 - accuracy: 0.9608\n",
            " ROC-AUC - epoch: 7 - score: 0.984215\n",
            "320/320 [==============================] - 20s 64ms/step - loss: 0.0421 - accuracy: 0.9608 - val_loss: 0.0444 - val_accuracy: 0.9937\n",
            "Epoch 8/20\n",
            "320/320 [==============================] - ETA: 0s - loss: 0.0408 - accuracy: 0.9639\n",
            " ROC-AUC - epoch: 8 - score: 0.985095\n",
            "320/320 [==============================] - 21s 65ms/step - loss: 0.0408 - accuracy: 0.9639 - val_loss: 0.0445 - val_accuracy: 0.9926\n",
            "Epoch 9/20\n",
            "319/320 [============================>.] - ETA: 0s - loss: 0.0400 - accuracy: 0.9639\n",
            " ROC-AUC - epoch: 9 - score: 0.985785\n",
            "320/320 [==============================] - 21s 64ms/step - loss: 0.0400 - accuracy: 0.9639 - val_loss: 0.0425 - val_accuracy: 0.9931\n",
            "Epoch 10/20\n",
            "320/320 [==============================] - ETA: 0s - loss: 0.0388 - accuracy: 0.9620\n",
            " ROC-AUC - epoch: 10 - score: 0.985744\n",
            "320/320 [==============================] - 20s 64ms/step - loss: 0.0388 - accuracy: 0.9620 - val_loss: 0.0426 - val_accuracy: 0.9936\n",
            "Epoch 11/20\n",
            "320/320 [==============================] - ETA: 0s - loss: 0.0380 - accuracy: 0.9697\n",
            " ROC-AUC - epoch: 11 - score: 0.986181\n",
            "320/320 [==============================] - 21s 64ms/step - loss: 0.0380 - accuracy: 0.9697 - val_loss: 0.0428 - val_accuracy: 0.9934\n",
            "Epoch 12/20\n",
            "320/320 [==============================] - ETA: 0s - loss: 0.0367 - accuracy: 0.9702\n",
            " ROC-AUC - epoch: 12 - score: 0.986191\n",
            "320/320 [==============================] - 21s 64ms/step - loss: 0.0367 - accuracy: 0.9702 - val_loss: 0.0432 - val_accuracy: 0.9922\n",
            "Epoch 13/20\n",
            "319/320 [============================>.] - ETA: 0s - loss: 0.0359 - accuracy: 0.9608\n",
            " ROC-AUC - epoch: 13 - score: 0.985856\n",
            "320/320 [==============================] - 20s 64ms/step - loss: 0.0359 - accuracy: 0.9608 - val_loss: 0.0430 - val_accuracy: 0.9921\n",
            "Epoch 14/20\n",
            "319/320 [============================>.] - ETA: 0s - loss: 0.0351 - accuracy: 0.9509\n",
            " ROC-AUC - epoch: 14 - score: 0.985900\n",
            "320/320 [==============================] - 20s 64ms/step - loss: 0.0351 - accuracy: 0.9509 - val_loss: 0.0443 - val_accuracy: 0.9928\n",
            "Epoch 15/20\n",
            "319/320 [============================>.] - ETA: 0s - loss: 0.0340 - accuracy: 0.9593\n",
            " ROC-AUC - epoch: 15 - score: 0.985954\n",
            "320/320 [==============================] - 21s 64ms/step - loss: 0.0340 - accuracy: 0.9593 - val_loss: 0.0431 - val_accuracy: 0.9913\n",
            "Epoch 16/20\n",
            "320/320 [==============================] - ETA: 0s - loss: 0.0335 - accuracy: 0.9498\n",
            " ROC-AUC - epoch: 16 - score: 0.985821\n",
            "320/320 [==============================] - 21s 66ms/step - loss: 0.0335 - accuracy: 0.9498 - val_loss: 0.0439 - val_accuracy: 0.9824\n",
            "Epoch 17/20\n",
            "319/320 [============================>.] - ETA: 0s - loss: 0.0326 - accuracy: 0.9524\n",
            " ROC-AUC - epoch: 17 - score: 0.985311\n",
            "320/320 [==============================] - 22s 68ms/step - loss: 0.0326 - accuracy: 0.9524 - val_loss: 0.0450 - val_accuracy: 0.9888\n",
            "Epoch 18/20\n",
            "320/320 [==============================] - ETA: 0s - loss: 0.0316 - accuracy: 0.9549\n",
            " ROC-AUC - epoch: 18 - score: 0.985674\n",
            "320/320 [==============================] - 20s 64ms/step - loss: 0.0316 - accuracy: 0.9549 - val_loss: 0.0448 - val_accuracy: 0.9914\n",
            "Epoch 19/20\n",
            "319/320 [============================>.] - ETA: 0s - loss: 0.0308 - accuracy: 0.9421\n",
            " ROC-AUC - epoch: 19 - score: 0.985628\n",
            "320/320 [==============================] - 21s 64ms/step - loss: 0.0308 - accuracy: 0.9421 - val_loss: 0.0452 - val_accuracy: 0.9799\n",
            "Epoch 20/20\n",
            "320/320 [==============================] - ETA: 0s - loss: 0.0303 - accuracy: 0.9409\n",
            " ROC-AUC - epoch: 20 - score: 0.985229\n",
            "320/320 [==============================] - 20s 64ms/step - loss: 0.0303 - accuracy: 0.9409 - val_loss: 0.0462 - val_accuracy: 0.9895\n",
            "Predicting....\n",
            "150/150 [==============================] - 10s 65ms/step\n"
          ],
          "name": "stdout"
        }
      ]
    },
    {
      "cell_type": "code",
      "metadata": {
        "id": "dLMc4Ggaq4WO",
        "outputId": "36ff781f-7b79-493d-8b8d-500154b8b64c",
        "colab": {
          "base_uri": "https://localhost:8080/",
          "height": 295
        }
      },
      "source": [
        "plot_graphs(hist_adam, 'accuracy','Adam')"
      ],
      "execution_count": null,
      "outputs": [
        {
          "output_type": "display_data",
          "data": {
            "image/png": "[encoded data removed]",
            "text/plain": [
              "<Figure size 432x288 with 1 Axes>"
            ]
          },
          "metadata": {
            "tags": [],
            "needs_background": "light"
          }
        }
      ]
    },
    {
      "cell_type": "code",
      "metadata": {
        "id": "ZVhJq8Miq4-C",
        "outputId": "00a4a934-4f3b-4eef-c6f4-a2b6144da9ec",
        "colab": {
          "base_uri": "https://localhost:8080/",
          "height": 295
        }
      },
      "source": [
        "plot_graphs(hist_adam, 'loss','Adam')"
      ],
      "execution_count": null,
      "outputs": [
        {
          "output_type": "display_data",
          "data": {
            "image/png": "[encoded data removed]",
            "text/plain": [
              "<Figure size 432x288 with 1 Axes>"
            ]
          },
          "metadata": {
            "tags": [],
            "needs_background": "light"
          }
        }
      ]
    },
    {
      "cell_type": "code",
      "metadata": {
        "id": "utqwe2A_ssUz"
      },
      "source": [
        "submission = pd.read_csv('/content/submission_gru.csv')\n",
        "submission[[\"toxic\", \"severe_toxic\", \"obscene\", \"threat\", \"insult\", \"identity_hate\"]] = y_pred_Adam_pre\n",
        "submission.to_csv('lstm_glove840_Adam_yesprocess.csv', index=False)"
      ],
      "execution_count": null,
      "outputs": []
    }
  ]
}